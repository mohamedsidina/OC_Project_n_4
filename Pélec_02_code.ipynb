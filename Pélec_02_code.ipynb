{
 "cells": [
  {
   "cell_type": "markdown",
   "id": "31cfab7e",
   "metadata": {},
   "source": [
    "************\n",
    "<font color=#025172 font size=\"+3\"><center><b> Notebook Code</b></center></font><br>\n",
    "<font color=#025172 font size=\"+2.5\"><center><b> PROJET n° 4 : Anticipez les besoins en consommation électrique de bâtiments</b></center></font>\n",
    "************   "
   ]
  },
  {
   "cell_type": "markdown",
   "id": "b6415c70",
   "metadata": {},
   "source": [
    "************\n",
    "<font color=#025172 font size=\"+3\"><b> CONTENU du Notebook</b></font><br>\n",
    "************ \n",
    "\n",
    "* <font color=#025172 font size=\"+1\"><b> Chapitre 1 : Inspection du dataset cleaned</b></font><br>\n",
    "  - **1.1 Chargement et exploration du dataset.**<br>\n",
    "       - 1.1.1 Importation des Packages nécessaires.<br>\n",
    "       - 1.1.2 Chargement du dataset<br>\n",
    "       - 1.1.3 Visualisation du contenu du dataset<br>\n",
    "**********\n",
    "* <font color=#025172 font size=\"+1\"><b>Chapitre 2 : Préparation des données</b></font><br>\n",
    "    - **2.1 Séparer le dataset en train et test datasets**<br>\n",
    "        - 2.1.1 Séparation du dataset en train et test sets.<br>\n",
    "        - 2.1.2 Préparation des transformers et du pipeline.<br>\n",
    "**********\n",
    "* <font color=#025172 font size=\"+1\"><b>Chapitre 3 : Quel type de regression pour notre problèmatique ?</b></font><br>\n",
    "    - **3.1 Comparaison des modèles SANS Tuning hyper-paramètres**<br>\n",
    "        - 3.1.1 Création d'une fonction pour comparer Ridge et Randomforest sans hyperparameter tunning.<br>\n",
    "        - 3.1.2 Comparaison de Ridge et Randomforest sans hyperparameter tunning.<br>\n",
    "    - **3.2 Comparaison des modèles AVEC Tuning hyper-paramètres**<br>\n",
    "        - 3.2.1 Création d'une fonction pour comparer Ridge et Randomforest avec hyperparameter tunning.<br>\n",
    "        - 3.2.2 Comparaison de Ridge et Randomforest avec hyperparameter tunning.<br>\n",
    "        - 3.2.3 Les meilleurs hyperparamètres de Randomforest.<br>\n",
    "        - 3.2.3 Comparer RandomForest Regressor avec d'autre modèle non-linéaire.<br>\n",
    "**********\n",
    "* <font color=#025172 font size=\"+1\"><b> Chapitre 4 : Feature selection</b></font><br>\n",
    "    - **4.1 Feature selection sur la variable transformée: TotalGHGEmissions**<br>\n",
    "    - **4.2 Feature selection sur la variable transformée: SiteEnergyUse(kBtu)**<br>\n",
    "**********\n",
    "\n",
    "* <font color=#025172 font size=\"+1\"><b> Chapitre 5 : Evaluer la performance sur le dataset</b></font><br>\n",
    "   - **5.1 Performance du modèle sur la variable transformée: TotalGHGEmissions**<br>\n",
    "   - **5.2 Performance du modèle sur la variable transformée: SiteEnergyUse(kBtu)**<br>\n",
    "   - **5.3 Comparer les performances des modèles sur le Traning et le Test set.**<br>\n",
    "        - 5.3.1 Préparer les metrics pour la variable : TotalGHGEmissions.<br>\n",
    "        - 5.3.2 Préparer les metrics pour la variable : SiteEnergyUse(kBtu).<br>\n",
    "**********\n",
    "* <font color=#025172 font size=\"+1\"><b>Chapitre 6 : Evaluer l'impact de la variable ENERGYSTARScore</b></font><br>\n",
    "    - **6.1 Impact sur la varialbe TotalGHGEmissions**<br>\n",
    "        - 6.1.1 Importance de la variable ENERGYSTARScore.<br>\n",
    "        - 6.1.2 Impact de la variable ENERGYSTARScore sur R^2.<br>\n",
    "**********"
   ]
  },
  {
   "cell_type": "markdown",
   "id": "5ed0df9a",
   "metadata": {},
   "source": [
    "*********\n",
    "# <font color=#025172>Chapitre 1 : Inspection du dataset cleaned</font>\n",
    "*********"
   ]
  },
  {
   "cell_type": "markdown",
   "id": "68405fe7",
   "metadata": {},
   "source": [
    "<img src='http://www.seattle.gov/Images/Council/Logos/City-of-Seattle-Logo_Color-on-Transparent.png' width=45px align=\"left\"/> \n",
    "<div style=\"vertical-align: middle\">\n",
    "    <h2>\n",
    "    <font color=#0046AD>&emsp; 1.1 Chargement et exploration du dataset\n",
    "        </font>\n",
    "    </h2>\n",
    "</div>"
   ]
  },
  {
   "cell_type": "markdown",
   "id": "92388198",
   "metadata": {},
   "source": [
    "#### <font color=#0046AD> 1.1.1 Importation des Packages nécessaires.</font>"
   ]
  },
  {
   "cell_type": "code",
   "execution_count": 1,
   "id": "f9e03302",
   "metadata": {},
   "outputs": [],
   "source": [
    "import pandas as pd\n",
    "import seaborn as sns\n",
    "import matplotlib.pyplot as plt\n",
    "import re\n",
    "import numpy as np\n",
    "\n",
    "%matplotlib inline"
   ]
  },
  {
   "cell_type": "markdown",
   "id": "2b42f435",
   "metadata": {},
   "source": [
    "#### <font color=#0046AD>1.1.2 Chargement du dataset</font>"
   ]
  },
  {
   "cell_type": "code",
   "execution_count": 2,
   "id": "f3d90920",
   "metadata": {},
   "outputs": [],
   "source": [
    "cleaned_data = pd.read_csv(\"00_data/cleaned_data.csv\")"
   ]
  },
  {
   "cell_type": "markdown",
   "id": "6ffbb9da",
   "metadata": {},
   "source": [
    "#### <font color=#0046AD>1.1.3 Visualisation du contenu du dataset</font>"
   ]
  },
  {
   "cell_type": "code",
   "execution_count": 3,
   "id": "1fcf28ec",
   "metadata": {},
   "outputs": [
    {
     "data": {
      "text/html": [
       "<div>\n",
       "<style scoped>\n",
       "    .dataframe tbody tr th:only-of-type {\n",
       "        vertical-align: middle;\n",
       "    }\n",
       "\n",
       "    .dataframe tbody tr th {\n",
       "        vertical-align: top;\n",
       "    }\n",
       "\n",
       "    .dataframe thead th {\n",
       "        text-align: right;\n",
       "    }\n",
       "</style>\n",
       "<table border=\"1\" class=\"dataframe\">\n",
       "  <thead>\n",
       "    <tr style=\"text-align: right;\">\n",
       "      <th></th>\n",
       "      <th>BuildingType</th>\n",
       "      <th>PrimaryPropertyType</th>\n",
       "      <th>Neighborhood</th>\n",
       "      <th>NumberofBuildings</th>\n",
       "      <th>NumberofFloors</th>\n",
       "      <th>PropertyGFATotal</th>\n",
       "      <th>PropertyGFAParking</th>\n",
       "      <th>PropertyGFABuilding(s)</th>\n",
       "      <th>LargestPropertyUseType</th>\n",
       "      <th>LargestPropertyUseTypeGFA</th>\n",
       "      <th>...</th>\n",
       "      <th>ThirdLargestPropertyUseTypeGFA</th>\n",
       "      <th>ENERGYSTARScore</th>\n",
       "      <th>SiteEnergyUse(kBtu)</th>\n",
       "      <th>TotalGHGEmissions</th>\n",
       "      <th>ComplianceStatus</th>\n",
       "      <th>Latitude</th>\n",
       "      <th>Longitude</th>\n",
       "      <th>Building age</th>\n",
       "      <th>transformed_TotalGHGEmissions</th>\n",
       "      <th>transformed_SiteEnergyUse(kBtu)</th>\n",
       "    </tr>\n",
       "  </thead>\n",
       "  <tbody>\n",
       "    <tr>\n",
       "      <th>0</th>\n",
       "      <td>NonResidential</td>\n",
       "      <td>Housing/Hotel</td>\n",
       "      <td>Downtown</td>\n",
       "      <td>1.0</td>\n",
       "      <td>12.0</td>\n",
       "      <td>88434</td>\n",
       "      <td>0</td>\n",
       "      <td>88434</td>\n",
       "      <td>Housing/Hotel</td>\n",
       "      <td>88434.0</td>\n",
       "      <td>...</td>\n",
       "      <td>5019.5</td>\n",
       "      <td>65.0</td>\n",
       "      <td>6981428.0</td>\n",
       "      <td>249.43</td>\n",
       "      <td>Compliant</td>\n",
       "      <td>47.612190</td>\n",
       "      <td>-122.337997</td>\n",
       "      <td>88</td>\n",
       "      <td>4.140212</td>\n",
       "      <td>28.773852</td>\n",
       "    </tr>\n",
       "    <tr>\n",
       "      <th>1</th>\n",
       "      <td>NonResidential</td>\n",
       "      <td>Housing/Hotel</td>\n",
       "      <td>Downtown</td>\n",
       "      <td>1.0</td>\n",
       "      <td>11.0</td>\n",
       "      <td>103566</td>\n",
       "      <td>15064</td>\n",
       "      <td>88502</td>\n",
       "      <td>Housing/Hotel</td>\n",
       "      <td>83880.0</td>\n",
       "      <td>...</td>\n",
       "      <td>4622.0</td>\n",
       "      <td>51.0</td>\n",
       "      <td>8354235.0</td>\n",
       "      <td>263.51</td>\n",
       "      <td>Compliant</td>\n",
       "      <td>47.613106</td>\n",
       "      <td>-122.333358</td>\n",
       "      <td>19</td>\n",
       "      <td>4.169932</td>\n",
       "      <td>29.318533</td>\n",
       "    </tr>\n",
       "  </tbody>\n",
       "</table>\n",
       "<p>2 rows × 23 columns</p>\n",
       "</div>"
      ],
      "text/plain": [
       "     BuildingType PrimaryPropertyType Neighborhood  NumberofBuildings  \\\n",
       "0  NonResidential       Housing/Hotel     Downtown                1.0   \n",
       "1  NonResidential       Housing/Hotel     Downtown                1.0   \n",
       "\n",
       "   NumberofFloors  PropertyGFATotal  PropertyGFAParking  \\\n",
       "0            12.0             88434                   0   \n",
       "1            11.0            103566               15064   \n",
       "\n",
       "   PropertyGFABuilding(s) LargestPropertyUseType  LargestPropertyUseTypeGFA  \\\n",
       "0                   88434          Housing/Hotel                    88434.0   \n",
       "1                   88502          Housing/Hotel                    83880.0   \n",
       "\n",
       "   ... ThirdLargestPropertyUseTypeGFA  ENERGYSTARScore SiteEnergyUse(kBtu)  \\\n",
       "0  ...                         5019.5             65.0           6981428.0   \n",
       "1  ...                         4622.0             51.0           8354235.0   \n",
       "\n",
       "   TotalGHGEmissions  ComplianceStatus   Latitude   Longitude Building age  \\\n",
       "0             249.43         Compliant  47.612190 -122.337997           88   \n",
       "1             263.51         Compliant  47.613106 -122.333358           19   \n",
       "\n",
       "   transformed_TotalGHGEmissions  transformed_SiteEnergyUse(kBtu)  \n",
       "0                       4.140212                        28.773852  \n",
       "1                       4.169932                        29.318533  \n",
       "\n",
       "[2 rows x 23 columns]"
      ]
     },
     "execution_count": 3,
     "metadata": {},
     "output_type": "execute_result"
    }
   ],
   "source": [
    "cleaned_data.head(2)"
   ]
  },
  {
   "cell_type": "code",
   "execution_count": 4,
   "id": "15b1378a",
   "metadata": {},
   "outputs": [
    {
     "data": {
      "text/html": [
       "<div>\n",
       "<style scoped>\n",
       "    .dataframe tbody tr th:only-of-type {\n",
       "        vertical-align: middle;\n",
       "    }\n",
       "\n",
       "    .dataframe tbody tr th {\n",
       "        vertical-align: top;\n",
       "    }\n",
       "\n",
       "    .dataframe thead th {\n",
       "        text-align: right;\n",
       "    }\n",
       "</style>\n",
       "<table border=\"1\" class=\"dataframe\">\n",
       "  <thead>\n",
       "    <tr style=\"text-align: right;\">\n",
       "      <th></th>\n",
       "      <th>BuildingType</th>\n",
       "      <th>PrimaryPropertyType</th>\n",
       "      <th>Neighborhood</th>\n",
       "      <th>NumberofBuildings</th>\n",
       "      <th>NumberofFloors</th>\n",
       "      <th>PropertyGFATotal</th>\n",
       "      <th>PropertyGFAParking</th>\n",
       "      <th>PropertyGFABuilding(s)</th>\n",
       "      <th>LargestPropertyUseType</th>\n",
       "      <th>LargestPropertyUseTypeGFA</th>\n",
       "      <th>...</th>\n",
       "      <th>ThirdLargestPropertyUseTypeGFA</th>\n",
       "      <th>ENERGYSTARScore</th>\n",
       "      <th>SiteEnergyUse(kBtu)</th>\n",
       "      <th>TotalGHGEmissions</th>\n",
       "      <th>ComplianceStatus</th>\n",
       "      <th>Latitude</th>\n",
       "      <th>Longitude</th>\n",
       "      <th>Building age</th>\n",
       "      <th>transformed_TotalGHGEmissions</th>\n",
       "      <th>transformed_SiteEnergyUse(kBtu)</th>\n",
       "    </tr>\n",
       "  </thead>\n",
       "  <tbody>\n",
       "    <tr>\n",
       "      <th>0</th>\n",
       "      <td>NonResidential</td>\n",
       "      <td>Housing/Hotel</td>\n",
       "      <td>Downtown</td>\n",
       "      <td>1.0</td>\n",
       "      <td>12.0</td>\n",
       "      <td>88434</td>\n",
       "      <td>0</td>\n",
       "      <td>88434</td>\n",
       "      <td>Housing/Hotel</td>\n",
       "      <td>88434.0</td>\n",
       "      <td>...</td>\n",
       "      <td>5019.5</td>\n",
       "      <td>65.0</td>\n",
       "      <td>6.981428e+06</td>\n",
       "      <td>249.43</td>\n",
       "      <td>Compliant</td>\n",
       "      <td>47.612190</td>\n",
       "      <td>-122.337997</td>\n",
       "      <td>88</td>\n",
       "      <td>4.140212</td>\n",
       "      <td>28.773852</td>\n",
       "    </tr>\n",
       "    <tr>\n",
       "      <th>1</th>\n",
       "      <td>NonResidential</td>\n",
       "      <td>Housing/Hotel</td>\n",
       "      <td>Downtown</td>\n",
       "      <td>1.0</td>\n",
       "      <td>11.0</td>\n",
       "      <td>103566</td>\n",
       "      <td>15064</td>\n",
       "      <td>88502</td>\n",
       "      <td>Housing/Hotel</td>\n",
       "      <td>83880.0</td>\n",
       "      <td>...</td>\n",
       "      <td>4622.0</td>\n",
       "      <td>51.0</td>\n",
       "      <td>8.354235e+06</td>\n",
       "      <td>263.51</td>\n",
       "      <td>Compliant</td>\n",
       "      <td>47.613106</td>\n",
       "      <td>-122.333358</td>\n",
       "      <td>19</td>\n",
       "      <td>4.169932</td>\n",
       "      <td>29.318533</td>\n",
       "    </tr>\n",
       "    <tr>\n",
       "      <th>2</th>\n",
       "      <td>NonResidential</td>\n",
       "      <td>Housing/Hotel</td>\n",
       "      <td>Downtown</td>\n",
       "      <td>1.0</td>\n",
       "      <td>41.0</td>\n",
       "      <td>961990</td>\n",
       "      <td>0</td>\n",
       "      <td>961990</td>\n",
       "      <td>Housing/Hotel</td>\n",
       "      <td>757243.0</td>\n",
       "      <td>...</td>\n",
       "      <td>0.0</td>\n",
       "      <td>18.0</td>\n",
       "      <td>7.313066e+07</td>\n",
       "      <td>2061.48</td>\n",
       "      <td>Compliant</td>\n",
       "      <td>47.613349</td>\n",
       "      <td>-122.337699</td>\n",
       "      <td>46</td>\n",
       "      <td>5.165848</td>\n",
       "      <td>36.472291</td>\n",
       "    </tr>\n",
       "    <tr>\n",
       "      <th>3</th>\n",
       "      <td>NonResidential</td>\n",
       "      <td>Housing/Hotel</td>\n",
       "      <td>Downtown</td>\n",
       "      <td>1.0</td>\n",
       "      <td>18.0</td>\n",
       "      <td>119890</td>\n",
       "      <td>12460</td>\n",
       "      <td>107430</td>\n",
       "      <td>Housing/Hotel</td>\n",
       "      <td>123445.0</td>\n",
       "      <td>...</td>\n",
       "      <td>0.0</td>\n",
       "      <td>67.0</td>\n",
       "      <td>1.482910e+07</td>\n",
       "      <td>507.70</td>\n",
       "      <td>Compliant</td>\n",
       "      <td>47.613754</td>\n",
       "      <td>-122.340924</td>\n",
       "      <td>35</td>\n",
       "      <td>4.511763</td>\n",
       "      <td>31.106263</td>\n",
       "    </tr>\n",
       "    <tr>\n",
       "      <th>4</th>\n",
       "      <td>Nonresidential COS</td>\n",
       "      <td>Other</td>\n",
       "      <td>Downtown</td>\n",
       "      <td>1.0</td>\n",
       "      <td>2.0</td>\n",
       "      <td>97288</td>\n",
       "      <td>37198</td>\n",
       "      <td>60090</td>\n",
       "      <td>Government building</td>\n",
       "      <td>88830.0</td>\n",
       "      <td>...</td>\n",
       "      <td>5019.5</td>\n",
       "      <td>76.0</td>\n",
       "      <td>1.205198e+07</td>\n",
       "      <td>304.62</td>\n",
       "      <td>Compliant</td>\n",
       "      <td>47.616439</td>\n",
       "      <td>-122.336764</td>\n",
       "      <td>16</td>\n",
       "      <td>4.247570</td>\n",
       "      <td>30.451926</td>\n",
       "    </tr>\n",
       "    <tr>\n",
       "      <th>...</th>\n",
       "      <td>...</td>\n",
       "      <td>...</td>\n",
       "      <td>...</td>\n",
       "      <td>...</td>\n",
       "      <td>...</td>\n",
       "      <td>...</td>\n",
       "      <td>...</td>\n",
       "      <td>...</td>\n",
       "      <td>...</td>\n",
       "      <td>...</td>\n",
       "      <td>...</td>\n",
       "      <td>...</td>\n",
       "      <td>...</td>\n",
       "      <td>...</td>\n",
       "      <td>...</td>\n",
       "      <td>...</td>\n",
       "      <td>...</td>\n",
       "      <td>...</td>\n",
       "      <td>...</td>\n",
       "      <td>...</td>\n",
       "      <td>...</td>\n",
       "    </tr>\n",
       "    <tr>\n",
       "      <th>3040</th>\n",
       "      <td>Nonresidential COS</td>\n",
       "      <td>Office</td>\n",
       "      <td>Greater duwamish</td>\n",
       "      <td>1.0</td>\n",
       "      <td>1.0</td>\n",
       "      <td>12294</td>\n",
       "      <td>0</td>\n",
       "      <td>12294</td>\n",
       "      <td>Office</td>\n",
       "      <td>12294.0</td>\n",
       "      <td>...</td>\n",
       "      <td>5019.5</td>\n",
       "      <td>46.0</td>\n",
       "      <td>8.497457e+05</td>\n",
       "      <td>20.94</td>\n",
       "      <td>No info</td>\n",
       "      <td>47.567220</td>\n",
       "      <td>-122.311540</td>\n",
       "      <td>26</td>\n",
       "      <td>2.618782</td>\n",
       "      <td>22.869851</td>\n",
       "    </tr>\n",
       "    <tr>\n",
       "      <th>3041</th>\n",
       "      <td>Nonresidential COS</td>\n",
       "      <td>Other</td>\n",
       "      <td>Downtown</td>\n",
       "      <td>1.0</td>\n",
       "      <td>1.0</td>\n",
       "      <td>16000</td>\n",
       "      <td>0</td>\n",
       "      <td>16000</td>\n",
       "      <td>Entertainment</td>\n",
       "      <td>16000.0</td>\n",
       "      <td>...</td>\n",
       "      <td>5019.5</td>\n",
       "      <td>76.0</td>\n",
       "      <td>9.502762e+05</td>\n",
       "      <td>32.17</td>\n",
       "      <td>Compliant</td>\n",
       "      <td>47.596250</td>\n",
       "      <td>-122.322830</td>\n",
       "      <td>12</td>\n",
       "      <td>2.906565</td>\n",
       "      <td>23.161899</td>\n",
       "    </tr>\n",
       "    <tr>\n",
       "      <th>3042</th>\n",
       "      <td>Nonresidential COS</td>\n",
       "      <td>Other</td>\n",
       "      <td>Magnolia / queen anne</td>\n",
       "      <td>1.0</td>\n",
       "      <td>1.0</td>\n",
       "      <td>13157</td>\n",
       "      <td>0</td>\n",
       "      <td>13157</td>\n",
       "      <td>Entertainment</td>\n",
       "      <td>7583.0</td>\n",
       "      <td>...</td>\n",
       "      <td>0.0</td>\n",
       "      <td>76.0</td>\n",
       "      <td>5.765898e+06</td>\n",
       "      <td>223.54</td>\n",
       "      <td>Compliant</td>\n",
       "      <td>47.636440</td>\n",
       "      <td>-122.357840</td>\n",
       "      <td>42</td>\n",
       "      <td>4.080384</td>\n",
       "      <td>28.200923</td>\n",
       "    </tr>\n",
       "    <tr>\n",
       "      <th>3043</th>\n",
       "      <td>Nonresidential COS</td>\n",
       "      <td>Mixed Use Property</td>\n",
       "      <td>Greater duwamish</td>\n",
       "      <td>1.0</td>\n",
       "      <td>1.0</td>\n",
       "      <td>14101</td>\n",
       "      <td>0</td>\n",
       "      <td>14101</td>\n",
       "      <td>Entertainment</td>\n",
       "      <td>6601.0</td>\n",
       "      <td>...</td>\n",
       "      <td>484.0</td>\n",
       "      <td>76.0</td>\n",
       "      <td>7.194712e+05</td>\n",
       "      <td>22.11</td>\n",
       "      <td>Compliant</td>\n",
       "      <td>47.528320</td>\n",
       "      <td>-122.324310</td>\n",
       "      <td>27</td>\n",
       "      <td>2.655677</td>\n",
       "      <td>22.439394</td>\n",
       "    </tr>\n",
       "    <tr>\n",
       "      <th>3044</th>\n",
       "      <td>Nonresidential COS</td>\n",
       "      <td>Mixed Use Property</td>\n",
       "      <td>Greater duwamish</td>\n",
       "      <td>1.0</td>\n",
       "      <td>1.0</td>\n",
       "      <td>18258</td>\n",
       "      <td>0</td>\n",
       "      <td>18258</td>\n",
       "      <td>Entertainment</td>\n",
       "      <td>8271.0</td>\n",
       "      <td>...</td>\n",
       "      <td>1108.0</td>\n",
       "      <td>76.0</td>\n",
       "      <td>1.152896e+06</td>\n",
       "      <td>41.27</td>\n",
       "      <td>Compliant</td>\n",
       "      <td>47.539390</td>\n",
       "      <td>-122.295360</td>\n",
       "      <td>78</td>\n",
       "      <td>3.069374</td>\n",
       "      <td>23.672147</td>\n",
       "    </tr>\n",
       "  </tbody>\n",
       "</table>\n",
       "<p>3045 rows × 23 columns</p>\n",
       "</div>"
      ],
      "text/plain": [
       "            BuildingType PrimaryPropertyType           Neighborhood  \\\n",
       "0         NonResidential       Housing/Hotel               Downtown   \n",
       "1         NonResidential       Housing/Hotel               Downtown   \n",
       "2         NonResidential       Housing/Hotel               Downtown   \n",
       "3         NonResidential       Housing/Hotel               Downtown   \n",
       "4     Nonresidential COS               Other               Downtown   \n",
       "...                  ...                 ...                    ...   \n",
       "3040  Nonresidential COS              Office       Greater duwamish   \n",
       "3041  Nonresidential COS               Other               Downtown   \n",
       "3042  Nonresidential COS               Other  Magnolia / queen anne   \n",
       "3043  Nonresidential COS  Mixed Use Property       Greater duwamish   \n",
       "3044  Nonresidential COS  Mixed Use Property       Greater duwamish   \n",
       "\n",
       "      NumberofBuildings  NumberofFloors  PropertyGFATotal  PropertyGFAParking  \\\n",
       "0                   1.0            12.0             88434                   0   \n",
       "1                   1.0            11.0            103566               15064   \n",
       "2                   1.0            41.0            961990                   0   \n",
       "3                   1.0            18.0            119890               12460   \n",
       "4                   1.0             2.0             97288               37198   \n",
       "...                 ...             ...               ...                 ...   \n",
       "3040                1.0             1.0             12294                   0   \n",
       "3041                1.0             1.0             16000                   0   \n",
       "3042                1.0             1.0             13157                   0   \n",
       "3043                1.0             1.0             14101                   0   \n",
       "3044                1.0             1.0             18258                   0   \n",
       "\n",
       "      PropertyGFABuilding(s) LargestPropertyUseType  \\\n",
       "0                      88434          Housing/Hotel   \n",
       "1                      88502          Housing/Hotel   \n",
       "2                     961990          Housing/Hotel   \n",
       "3                     107430          Housing/Hotel   \n",
       "4                      60090    Government building   \n",
       "...                      ...                    ...   \n",
       "3040                   12294                 Office   \n",
       "3041                   16000          Entertainment   \n",
       "3042                   13157          Entertainment   \n",
       "3043                   14101          Entertainment   \n",
       "3044                   18258          Entertainment   \n",
       "\n",
       "      LargestPropertyUseTypeGFA  ... ThirdLargestPropertyUseTypeGFA  \\\n",
       "0                       88434.0  ...                         5019.5   \n",
       "1                       83880.0  ...                         4622.0   \n",
       "2                      757243.0  ...                            0.0   \n",
       "3                      123445.0  ...                            0.0   \n",
       "4                       88830.0  ...                         5019.5   \n",
       "...                         ...  ...                            ...   \n",
       "3040                    12294.0  ...                         5019.5   \n",
       "3041                    16000.0  ...                         5019.5   \n",
       "3042                     7583.0  ...                            0.0   \n",
       "3043                     6601.0  ...                          484.0   \n",
       "3044                     8271.0  ...                         1108.0   \n",
       "\n",
       "      ENERGYSTARScore SiteEnergyUse(kBtu)  TotalGHGEmissions  \\\n",
       "0                65.0        6.981428e+06             249.43   \n",
       "1                51.0        8.354235e+06             263.51   \n",
       "2                18.0        7.313066e+07            2061.48   \n",
       "3                67.0        1.482910e+07             507.70   \n",
       "4                76.0        1.205198e+07             304.62   \n",
       "...               ...                 ...                ...   \n",
       "3040             46.0        8.497457e+05              20.94   \n",
       "3041             76.0        9.502762e+05              32.17   \n",
       "3042             76.0        5.765898e+06             223.54   \n",
       "3043             76.0        7.194712e+05              22.11   \n",
       "3044             76.0        1.152896e+06              41.27   \n",
       "\n",
       "      ComplianceStatus   Latitude   Longitude Building age  \\\n",
       "0            Compliant  47.612190 -122.337997           88   \n",
       "1            Compliant  47.613106 -122.333358           19   \n",
       "2            Compliant  47.613349 -122.337699           46   \n",
       "3            Compliant  47.613754 -122.340924           35   \n",
       "4            Compliant  47.616439 -122.336764           16   \n",
       "...                ...        ...         ...          ...   \n",
       "3040           No info  47.567220 -122.311540           26   \n",
       "3041         Compliant  47.596250 -122.322830           12   \n",
       "3042         Compliant  47.636440 -122.357840           42   \n",
       "3043         Compliant  47.528320 -122.324310           27   \n",
       "3044         Compliant  47.539390 -122.295360           78   \n",
       "\n",
       "      transformed_TotalGHGEmissions  transformed_SiteEnergyUse(kBtu)  \n",
       "0                          4.140212                        28.773852  \n",
       "1                          4.169932                        29.318533  \n",
       "2                          5.165848                        36.472291  \n",
       "3                          4.511763                        31.106263  \n",
       "4                          4.247570                        30.451926  \n",
       "...                             ...                              ...  \n",
       "3040                       2.618782                        22.869851  \n",
       "3041                       2.906565                        23.161899  \n",
       "3042                       4.080384                        28.200923  \n",
       "3043                       2.655677                        22.439394  \n",
       "3044                       3.069374                        23.672147  \n",
       "\n",
       "[3045 rows x 23 columns]"
      ]
     },
     "execution_count": 4,
     "metadata": {},
     "output_type": "execute_result"
    }
   ],
   "source": [
    "cleaned_data.drop_duplicates()"
   ]
  },
  {
   "cell_type": "code",
   "execution_count": 5,
   "id": "9cae8a82",
   "metadata": {},
   "outputs": [
    {
     "data": {
      "text/plain": [
       "(3045, 23)"
      ]
     },
     "execution_count": 5,
     "metadata": {},
     "output_type": "execute_result"
    }
   ],
   "source": [
    "cleaned_data.shape"
   ]
  },
  {
   "cell_type": "code",
   "execution_count": 6,
   "id": "9d41ea40",
   "metadata": {},
   "outputs": [
    {
     "data": {
      "text/plain": [
       "BuildingType                       0.0\n",
       "ThirdLargestPropertyUseType        0.0\n",
       "transformed_TotalGHGEmissions      0.0\n",
       "Building age                       0.0\n",
       "Longitude                          0.0\n",
       "Latitude                           0.0\n",
       "ComplianceStatus                   0.0\n",
       "TotalGHGEmissions                  0.0\n",
       "SiteEnergyUse(kBtu)                0.0\n",
       "ENERGYSTARScore                    0.0\n",
       "ThirdLargestPropertyUseTypeGFA     0.0\n",
       "SecondLargestPropertyUseTypeGFA    0.0\n",
       "PrimaryPropertyType                0.0\n",
       "SecondLargestPropertyUseType       0.0\n",
       "LargestPropertyUseTypeGFA          0.0\n",
       "LargestPropertyUseType             0.0\n",
       "PropertyGFABuilding(s)             0.0\n",
       "PropertyGFAParking                 0.0\n",
       "PropertyGFATotal                   0.0\n",
       "NumberofFloors                     0.0\n",
       "NumberofBuildings                  0.0\n",
       "Neighborhood                       0.0\n",
       "transformed_SiteEnergyUse(kBtu)    0.0\n",
       "dtype: float64"
      ]
     },
     "execution_count": 6,
     "metadata": {},
     "output_type": "execute_result"
    }
   ],
   "source": [
    "cleaned_data.isna().mean().sort_values(ascending=False) * 100"
   ]
  },
  {
   "cell_type": "code",
   "execution_count": 7,
   "id": "5a240895",
   "metadata": {},
   "outputs": [
    {
     "data": {
      "text/plain": [
       "Building age                         int64\n",
       "PropertyGFATotal                     int64\n",
       "PropertyGFAParking                   int64\n",
       "PropertyGFABuilding(s)               int64\n",
       "SecondLargestPropertyUseTypeGFA    float64\n",
       "Longitude                          float64\n",
       "Latitude                           float64\n",
       "TotalGHGEmissions                  float64\n",
       "SiteEnergyUse(kBtu)                float64\n",
       "ENERGYSTARScore                    float64\n",
       "ThirdLargestPropertyUseTypeGFA     float64\n",
       "transformed_SiteEnergyUse(kBtu)    float64\n",
       "LargestPropertyUseTypeGFA          float64\n",
       "NumberofFloors                     float64\n",
       "NumberofBuildings                  float64\n",
       "transformed_TotalGHGEmissions      float64\n",
       "ThirdLargestPropertyUseType         object\n",
       "SecondLargestPropertyUseType        object\n",
       "LargestPropertyUseType              object\n",
       "ComplianceStatus                    object\n",
       "Neighborhood                        object\n",
       "PrimaryPropertyType                 object\n",
       "BuildingType                        object\n",
       "dtype: object"
      ]
     },
     "execution_count": 7,
     "metadata": {},
     "output_type": "execute_result"
    }
   ],
   "source": [
    "cleaned_data.dtypes.sort_values()"
   ]
  },
  {
   "cell_type": "markdown",
   "id": "a156cc9a",
   "metadata": {},
   "source": [
    "*********\n",
    "# <font color=#025172>Chapitre 2 : Préparation des données</font>\n",
    "*********"
   ]
  },
  {
   "cell_type": "markdown",
   "id": "03575433",
   "metadata": {},
   "source": [
    "<img src='http://www.seattle.gov/Images/Council/Logos/City-of-Seattle-Logo_Color-on-Transparent.png' width=45px align=\"left\"/> \n",
    "<div style=\"vertical-align: middle\">\n",
    "    <h2>\n",
    "    <font color=#0046AD>&emsp; 2.1 Séparer le dataset en train et test datasets\n",
    "        </font>\n",
    "    </h2>\n",
    "</div>"
   ]
  },
  {
   "cell_type": "markdown",
   "id": "a574e10f",
   "metadata": {},
   "source": [
    "#### <font color=#0046AD>2.1.1 Séparation du dataset en train et test sets.</font>"
   ]
  },
  {
   "cell_type": "code",
   "execution_count": 8,
   "id": "c8bc2882",
   "metadata": {},
   "outputs": [],
   "source": [
    "from sklearn.model_selection import train_test_split\n",
    "\n",
    "np.random.seed(20)\n",
    "\n",
    "# Liste des variables à prédire (données brutes et données transformées)\n",
    "Y_list = [\n",
    "    \"TotalGHGEmissions\",\n",
    "    \"SiteEnergyUse(kBtu)\",\n",
    "    \"transformed_TotalGHGEmissions\",\n",
    "    \"transformed_SiteEnergyUse(kBtu)\",\n",
    "]\n",
    "\n",
    "\n",
    "# Séparer le dataset en train et test sets.\n",
    "X = cleaned_data.drop(Y_list, axis=1).copy()\n",
    "\n",
    "# y_emission_or : emission co2, données brutes non transformées.\n",
    "y_emission_or = cleaned_data[\"TotalGHGEmissions\"].copy()\n",
    "\n",
    "# y_emission_tr : emission co2, données transformées.\n",
    "y_emission_tr = cleaned_data[\"transformed_TotalGHGEmissions\"].copy()\n",
    "\n",
    "# y_energy_or : consommation énergétique, données brutes non transformées.\n",
    "y_energy_or = cleaned_data[\"SiteEnergyUse(kBtu)\"].copy()\n",
    "\n",
    "# y_emission_tr : consommation énergétique, données transformées.\n",
    "y_energy_tr = cleaned_data[\"transformed_SiteEnergyUse(kBtu)\"].copy()\n",
    "\n",
    "\n",
    "# train & test dataset avec y_emission_or (données brutes non transformées)\n",
    "X_train_co2_or, X_test_co2_or, y_train_co2_or, y_test_co2_or = train_test_split(\n",
    "    X, y_emission_or, test_size=0.2, random_state=20\n",
    ")\n",
    "\n",
    "# train & test dataset avec y_emission_tr (données transformées)\n",
    "X_train_co2_tr, X_test_co2_tr, y_train_co2_tr, y_test_co2_tr = train_test_split(\n",
    "    X, y_emission_tr, test_size=0.2, random_state=20\n",
    ")\n",
    "\n",
    "# train & test dataset avec y_energy_or (données brutes non transformées)\n",
    "(\n",
    "    X_train_energy_or,\n",
    "    X_test_energy_or,\n",
    "    y_train_energy_or,\n",
    "    y_test_energy_or,\n",
    ") = train_test_split(X, y_energy_or, test_size=0.2, random_state=20)\n",
    "\n",
    "# train & test dataset avec y_energy_tr (données transformées)\n",
    "(\n",
    "    X_train_energy_tr,\n",
    "    X_test_energy_tr,\n",
    "    y_train_energy_tr,\n",
    "    y_test_energy_tr,\n",
    ") = train_test_split(X, y_energy_tr, test_size=0.2, random_state=20)"
   ]
  },
  {
   "cell_type": "markdown",
   "id": "04a7c477",
   "metadata": {},
   "source": [
    "#### <font color=#0046AD>2.1.2 Préparation des transformers et du pipeline.</font>\n",
    "- Transformation des variables qualitatives (OneHot Encoder)\n",
    "- Standardisation des variables quantitatives (StandardScaler)"
   ]
  },
  {
   "cell_type": "code",
   "execution_count": 9,
   "id": "9251136b",
   "metadata": {},
   "outputs": [],
   "source": [
    "# cat_unique_values = pd.unique(cleaned_data.select_dtypes(include=[\"object\"]).values.ravel())\n",
    "# ohe_cat = [cat_unique_values]*cleaned_data.select_dtypes(include=[\"object\"]).shape[1]"
   ]
  },
  {
   "cell_type": "code",
   "execution_count": 10,
   "id": "2708b580",
   "metadata": {},
   "outputs": [],
   "source": [
    "from sklearn.pipeline import Pipeline\n",
    "from sklearn.pipeline import make_pipeline\n",
    "from sklearn.model_selection import cross_val_score\n",
    "\n",
    "from sklearn.preprocessing import OneHotEncoder\n",
    "from sklearn.preprocessing import StandardScaler\n",
    "from sklearn.compose import ColumnTransformer\n",
    "from sklearn.linear_model import Ridge\n",
    "from sklearn.ensemble import RandomForestRegressor\n",
    "\n",
    "np.random.seed(20)\n",
    "\n",
    "# Lister les variables quantitatives et les variables qualitatives\n",
    "# Initialisation des transformers\n",
    "\n",
    "categorical_columns = cleaned_data.select_dtypes(include=[\"object\"]).columns\n",
    "categorical_transformer = Pipeline(\n",
    "    steps=[(\"onehot\", OneHotEncoder(#categories=ohe_cat\n",
    "                                    sparse=False, \n",
    "                                    handle_unknown=\"ignore\")\n",
    "           )] \n",
    ")\n",
    "\n",
    "\n",
    "numerical_columns = (\n",
    "    cleaned_data.select_dtypes(include=[\"int64\", \"float64\"])\n",
    "    .drop(Y_list, axis=1)\n",
    "    .columns\n",
    ")\n",
    "numerical_transformer = Pipeline(steps=[(\"scaler\", StandardScaler())])\n",
    "\n",
    "\n",
    "# Combiner les transformers dans une étape preprocessor\n",
    "preprocessor = ColumnTransformer(\n",
    "    transformers=[\n",
    "        (\"numerical\", numerical_transformer, numerical_columns),\n",
    "        (\"categorical\", categorical_transformer, categorical_columns),\n",
    "    ],\n",
    "    remainder=\"passthrough\",\n",
    ")\n",
    "\n",
    "\n",
    "# Créer une Pipeline avec l'étape preprocessor et le model\n",
    "\n",
    "# pipeline = Pipeline(steps=[(\"preprocessor\", preprocessor), (\"model\", Ridge())])\n"
   ]
  },
  {
   "cell_type": "markdown",
   "id": "55ba9df3",
   "metadata": {},
   "source": [
    "*********\n",
    "# <font color=#025172>Chapitre 3 : Quel type de regression pour notre problèmatique ?</font>\n",
    "*********"
   ]
  },
  {
   "cell_type": "markdown",
   "id": "edd68550",
   "metadata": {},
   "source": [
    "<img src='http://www.seattle.gov/Images/Council/Logos/City-of-Seattle-Logo_Color-on-Transparent.png' width=45px align=\"left\"/> \n",
    "<div style=\"vertical-align: middle\">\n",
    "    <h2>\n",
    "    <font color=#0046AD>&emsp; 3.1 Comparaison des modèles SANS Tuning hyper-paramètres  \n",
    "        </font>\n",
    "    </h2>\n",
    "</div>"
   ]
  },
  {
   "cell_type": "markdown",
   "id": "fb7d8dc7",
   "metadata": {},
   "source": [
    "- L'objectif de cette section est de répondre à la question suivante : \n",
    "    - Quel type de régression est le plus adaptée à notre problématique (régression linéaire ou régression non linéaire) ?\n",
    "    - Pour cela nous allons comparer 2 modèles :\n",
    "        - Un modèle linéaire **Ridge** vs un modèle non-linéaire **Randomforeset**. "
   ]
  },
  {
   "cell_type": "markdown",
   "id": "c2f76b30",
   "metadata": {},
   "source": [
    "#### <font color=#0046AD>3.1.1 Création d'une fonction pour comparer Ridge et Randomforest sans hyperparameter tunning.</font>"
   ]
  },
  {
   "cell_type": "code",
   "execution_count": 11,
   "id": "422aaec2",
   "metadata": {},
   "outputs": [],
   "source": [
    "def cross_evaluate_models(estimators, X_train_or, y_train_or, X_train_tr, y_train_tr, y_name):\n",
    "\n",
    "    from sklearn.model_selection import cross_validate\n",
    "    from sklearn.model_selection import KFold\n",
    "    from sklearn.base import clone\n",
    "\n",
    "    model_cvs = {}\n",
    "    names = []\n",
    "    r2_or = []\n",
    "    mae_or = []\n",
    "    rmse_or = []\n",
    "    r2_tr = []\n",
    "    mae_tr = []\n",
    "    rmse_tr = []\n",
    "\n",
    "    \n",
    "    np.random.seed(20)\n",
    "    \n",
    "    kfold = KFold(n_splits=5, shuffle=True, random_state=20)\n",
    "\n",
    "\n",
    "    for model_name, model in estimators.items():\n",
    "        pipeline = Pipeline(steps=[(\"preprocessor\", preprocessor), (model_name, model)])\n",
    "\n",
    "        or_cv_results = cross_validate(\n",
    "            pipeline,\n",
    "            X_train_or,\n",
    "            y_train_or,\n",
    "            cv=kfold,\n",
    "            scoring=[\"r2\", \n",
    "                     \"neg_mean_absolute_error\", \n",
    "                     \"neg_root_mean_squared_error\"\n",
    "                    ],\n",
    "            n_jobs=-2,\n",
    "            error_score=\"raise\",\n",
    "        )\n",
    "\n",
    "        cv_r2 = round(or_cv_results[\"test_r2\"].mean() * 100, 2)\n",
    "        cv_mae = round(or_cv_results[\"test_neg_mean_absolute_error\"].mean(), 2)\n",
    "        cv_rmse = round(or_cv_results[\"test_neg_root_mean_squared_error\"].mean(), 2)\n",
    "        \n",
    "        \n",
    "        #     print(\"RMSE : \", cv_rmse)\n",
    "        #     print(\"-\" * 80)\n",
    "\n",
    "        r2_or.append(cv_r2)\n",
    "        mae_or.append(cv_mae)\n",
    "        rmse_or.append(cv_rmse)\n",
    "\n",
    "        tr_cv_results = cross_validate(\n",
    "            pipeline,\n",
    "            X_train_tr,\n",
    "            y_train_tr,\n",
    "            cv=kfold,\n",
    "            scoring=[\"r2\", \n",
    "                     \"neg_mean_absolute_error\", \n",
    "                     \"neg_root_mean_squared_error\"\n",
    "                    ],\n",
    "            n_jobs=-2,\n",
    "            error_score=\"raise\",\n",
    "        )\n",
    "\n",
    "        tr_cv_r2 = round(tr_cv_results[\"test_r2\"].mean() * 100,2)\n",
    "        tr_cv_mae = round(tr_cv_results[\"test_neg_mean_absolute_error\"].mean(),2)\n",
    "        tr_cv_rmse = round(tr_cv_results[\"test_neg_root_mean_squared_error\"].mean(),2)\n",
    "\n",
    "        r2_tr.append(tr_cv_r2)\n",
    "        mae_tr.append(tr_cv_mae)\n",
    "        rmse_tr.append(tr_cv_rmse)\n",
    "        \n",
    "        names.append(model_name)\n",
    "        \n",
    "    df = pd.DataFrame(\n",
    "        {\"R^2_or\": r2_or,\n",
    "         \"MAE_or\": mae_or,\n",
    "         \"RMSE_or\": rmse_or,\n",
    "         \"R^2_tr\": r2_tr,\n",
    "         \"MAE_tr\": mae_tr,\n",
    "         \"RMSE_tr\": rmse_tr,\n",
    "        },\n",
    "        index=names,\n",
    "    ).sort_values(by=\"R^2_or\", ascending=False)\n",
    "\n",
    "    columns = [\n",
    "            (y_name + \" original data\", \"R^2_or\"),\n",
    "            (y_name + \" original data\", \"MAE_or\"),\n",
    "            (y_name + \" original data\", \"RMSE_or\"),\n",
    "            (y_name + \" transformed data\", \"R^2_tr\"),\n",
    "            (y_name + \" transformed data\", \"MAE_tr\"),\n",
    "            (y_name + \" transformed data\", \"RMSE_tr\"),\n",
    "        ]\n",
    "\n",
    "    df.columns = pd.MultiIndex.from_tuples(columns)\n",
    "\n",
    "    return df"
   ]
  },
  {
   "cell_type": "markdown",
   "id": "d728f59c",
   "metadata": {},
   "source": [
    "#### <font color=#0046AD>3.1.2 Comparaison de Ridge et Randomforest sans hyperparameter tunning.</font>"
   ]
  },
  {
   "cell_type": "markdown",
   "id": "7f9aaec4",
   "metadata": {},
   "source": [
    "- Nous allons comparer les 2 modèles sans modification des hyper-paramètres.<br>\n",
    "- Nous allons également utiliser une **Cross-Validation** pour comparer les scores des 2 modèles sur le **train set**."
   ]
  },
  {
   "cell_type": "code",
   "execution_count": 12,
   "id": "fc72045b",
   "metadata": {},
   "outputs": [],
   "source": [
    "models_list = {\n",
    "    \"Ridge\": Ridge(), # Un modèle linéaire\n",
    "    \"randomforestregressor\": RandomForestRegressor(random_state=20), # Un modèle non-lineaire\n",
    "}"
   ]
  },
  {
   "cell_type": "code",
   "execution_count": 13,
   "id": "02affe59",
   "metadata": {},
   "outputs": [
    {
     "name": "stdout",
     "output_type": "stream",
     "text": [
      "Wall time: 11.3 s\n"
     ]
    }
   ],
   "source": [
    "%%time\n",
    "co2_models= cross_evaluate_models(\n",
    "    estimators=models_list,\n",
    "    X_train_or=X_train_co2_or,\n",
    "    y_train_or=y_train_co2_or,\n",
    "    X_train_tr=X_train_co2_tr,\n",
    "    y_train_tr=y_train_co2_tr,\n",
    "    y_name=\"TotalGHGEmissions\",\n",
    ")"
   ]
  },
  {
   "cell_type": "code",
   "execution_count": 14,
   "id": "5b7d950f",
   "metadata": {},
   "outputs": [
    {
     "name": "stdout",
     "output_type": "stream",
     "text": [
      "Wall time: 6.8 s\n"
     ]
    }
   ],
   "source": [
    "%%time\n",
    "energy_models= cross_evaluate_models(\n",
    "    estimators=models_list,\n",
    "    X_train_or=X_train_energy_or,\n",
    "    y_train_or=y_train_energy_or,\n",
    "    X_train_tr=X_train_energy_tr,\n",
    "    y_train_tr=y_train_energy_tr,\n",
    "    y_name=\"SiteEnergyUse(kBtu)\",\n",
    ")"
   ]
  },
  {
   "cell_type": "code",
   "execution_count": 15,
   "id": "f7b20c9c",
   "metadata": {},
   "outputs": [
    {
     "data": {
      "text/html": [
       "<div>\n",
       "<style scoped>\n",
       "    .dataframe tbody tr th:only-of-type {\n",
       "        vertical-align: middle;\n",
       "    }\n",
       "\n",
       "    .dataframe tbody tr th {\n",
       "        vertical-align: top;\n",
       "    }\n",
       "\n",
       "    .dataframe thead tr th {\n",
       "        text-align: left;\n",
       "    }\n",
       "</style>\n",
       "<table border=\"1\" class=\"dataframe\">\n",
       "  <thead>\n",
       "    <tr>\n",
       "      <th></th>\n",
       "      <th colspan=\"3\" halign=\"left\">TotalGHGEmissions original data</th>\n",
       "      <th colspan=\"3\" halign=\"left\">TotalGHGEmissions transformed data</th>\n",
       "      <th colspan=\"3\" halign=\"left\">SiteEnergyUse(kBtu) original data</th>\n",
       "      <th colspan=\"3\" halign=\"left\">SiteEnergyUse(kBtu) transformed data</th>\n",
       "    </tr>\n",
       "    <tr>\n",
       "      <th></th>\n",
       "      <th>R^2_or</th>\n",
       "      <th>MAE_or</th>\n",
       "      <th>RMSE_or</th>\n",
       "      <th>R^2_tr</th>\n",
       "      <th>MAE_tr</th>\n",
       "      <th>RMSE_tr</th>\n",
       "      <th>R^2_or</th>\n",
       "      <th>MAE_or</th>\n",
       "      <th>RMSE_or</th>\n",
       "      <th>R^2_tr</th>\n",
       "      <th>MAE_tr</th>\n",
       "      <th>RMSE_tr</th>\n",
       "    </tr>\n",
       "  </thead>\n",
       "  <tbody>\n",
       "    <tr>\n",
       "      <th>randomforestregressor</th>\n",
       "      <td>67.21</td>\n",
       "      <td>-84.38</td>\n",
       "      <td>-306.63</td>\n",
       "      <td>72.19</td>\n",
       "      <td>-0.35</td>\n",
       "      <td>-0.49</td>\n",
       "      <td>82.40</td>\n",
       "      <td>-2407717.87</td>\n",
       "      <td>-7563404.12</td>\n",
       "      <td>84.99</td>\n",
       "      <td>-0.96</td>\n",
       "      <td>-1.47</td>\n",
       "    </tr>\n",
       "    <tr>\n",
       "      <th>Ridge</th>\n",
       "      <td>20.41</td>\n",
       "      <td>-196.75</td>\n",
       "      <td>-437.48</td>\n",
       "      <td>40.99</td>\n",
       "      <td>-0.57</td>\n",
       "      <td>-0.72</td>\n",
       "      <td>40.71</td>\n",
       "      <td>-5305501.29</td>\n",
       "      <td>-12447287.52</td>\n",
       "      <td>62.52</td>\n",
       "      <td>-1.80</td>\n",
       "      <td>-2.34</td>\n",
       "    </tr>\n",
       "  </tbody>\n",
       "</table>\n",
       "</div>"
      ],
      "text/plain": [
       "                      TotalGHGEmissions original data                  \\\n",
       "                                               R^2_or  MAE_or RMSE_or   \n",
       "randomforestregressor                           67.21  -84.38 -306.63   \n",
       "Ridge                                           20.41 -196.75 -437.48   \n",
       "\n",
       "                      TotalGHGEmissions transformed data                 \\\n",
       "                                                  R^2_tr MAE_tr RMSE_tr   \n",
       "randomforestregressor                              72.19  -0.35   -0.49   \n",
       "Ridge                                              40.99  -0.57   -0.72   \n",
       "\n",
       "                      SiteEnergyUse(kBtu) original data              \\\n",
       "                                                 R^2_or      MAE_or   \n",
       "randomforestregressor                             82.40 -2407717.87   \n",
       "Ridge                                             40.71 -5305501.29   \n",
       "\n",
       "                                   SiteEnergyUse(kBtu) transformed data  \\\n",
       "                           RMSE_or                               R^2_tr   \n",
       "randomforestregressor  -7563404.12                                84.99   \n",
       "Ridge                 -12447287.52                                62.52   \n",
       "\n",
       "                                      \n",
       "                      MAE_tr RMSE_tr  \n",
       "randomforestregressor  -0.96   -1.47  \n",
       "Ridge                  -1.80   -2.34  "
      ]
     },
     "execution_count": 15,
     "metadata": {},
     "output_type": "execute_result"
    }
   ],
   "source": [
    "baseline_models = pd.concat([co2_models,energy_models], axis=1)\n",
    "baseline_models"
   ]
  },
  {
   "cell_type": "code",
   "execution_count": 16,
   "id": "d17d4f93",
   "metadata": {},
   "outputs": [
    {
     "data": {
      "image/png": "[encoded data removed]",
      "text/plain": [
       "<Figure size 1152x1008 with 4 Axes>"
      ]
     },
     "metadata": {
      "needs_background": "light"
     },
     "output_type": "display_data"
    }
   ],
   "source": [
    "fig, ax = plt.subplots(nrows=2, ncols=2, figsize=(16, 14), sharex=True)\n",
    "\n",
    "baseline_models.iloc[\n",
    "    :,\n",
    "    (\n",
    "        baseline_models.columns.get_level_values(0).isin(\n",
    "            [\"TotalGHGEmissions original data\", \"TotalGHGEmissions transformed data\"]\n",
    "        )\n",
    "    )\n",
    "    & (baseline_models.columns.get_level_values(1).isin([\"R^2_or\", \"R^2_tr\"])),\n",
    "].plot(\n",
    "    kind=\"bar\",\n",
    "    title=\"TotalGHGEmissions - R^2 - by model\",\n",
    "    style=\"seaborn-white\",\n",
    "    fontsize=14,\n",
    "    colormap=\"Set2\",\n",
    "    ax=ax[0, 0],\n",
    "    legend=False,\n",
    "    ylim=[0, 100],\n",
    ")\n",
    "# ax[0,0].legend()\n",
    "ax[0, 0].legend(\n",
    "    [\"Original data\", \"Transformed data\"], loc=\"lower left\", bbox_to_anchor=(2.2, 0.9)\n",
    ")\n",
    "\n",
    "# ax.hlines(23, -.5,.5, linestyles='dashed')\n",
    "\n",
    "baseline_models.iloc[\n",
    "    :,\n",
    "    (\n",
    "        baseline_models.columns.get_level_values(0).isin(\n",
    "            [\"TotalGHGEmissions original data\", \"TotalGHGEmissions transformed data\"]\n",
    "        )\n",
    "    )\n",
    "    & (baseline_models.columns.get_level_values(1).isin([\"RMSE_or\", \"RMSE_tr\"])),\n",
    "].plot(\n",
    "    kind=\"bar\",\n",
    "    title=\"TotalGHGEmissions - RMSE - by model\",\n",
    "    style=\"seaborn-white\",\n",
    "    fontsize=14,\n",
    "    colormap=\"Set2\",\n",
    "    ax=ax[0, 1],\n",
    "    legend=False,\n",
    ")\n",
    "\n",
    "baseline_models.iloc[\n",
    "    :,\n",
    "    (\n",
    "        baseline_models.columns.get_level_values(0).isin(\n",
    "            [\n",
    "                \"SiteEnergyUse(kBtu) original data\",\n",
    "                \"SiteEnergyUse(kBtu) transformed data\",\n",
    "            ]\n",
    "        )\n",
    "    )\n",
    "    & (baseline_models.columns.get_level_values(1).isin([\"R^2_or\", \"R^2_tr\"])),\n",
    "].plot(\n",
    "    kind=\"bar\",\n",
    "    title=\"SiteEnergyUse(kBtu) - R^2 - by model\",\n",
    "    style=\"seaborn-white\",\n",
    "    fontsize=14,\n",
    "    colormap=\"Set2\",\n",
    "    ax=ax[1, 0],\n",
    "    legend=False,\n",
    "    ylim=[0, 100],\n",
    ")\n",
    "\n",
    "# ax.hlines(23, -.5,.5, linestyles='dashed')\n",
    "\n",
    "baseline_models.iloc[\n",
    "    :,\n",
    "    (\n",
    "        baseline_models.columns.get_level_values(0).isin(\n",
    "            [\n",
    "                \"SiteEnergyUse(kBtu) original data\",\n",
    "                \"SiteEnergyUse(kBtu) transformed data\",\n",
    "            ]\n",
    "        )\n",
    "    )\n",
    "    & (baseline_models.columns.get_level_values(1).isin([\"RMSE_or\", \"RMSE_tr\"])),\n",
    "].plot(\n",
    "    kind=\"bar\",\n",
    "    title=\"SiteEnergyUse(kBtu) - RMSE - by model\",\n",
    "    style=\"seaborn-white\",\n",
    "    fontsize=14,\n",
    "    colormap=\"Set2\",\n",
    "    ax=ax[1, 1],\n",
    "    legend=False,\n",
    ")\n",
    "\n",
    "for p in ax[0, 0].patches:\n",
    "    ax[0, 0].annotate(str(p.get_height()), (p.get_x() * 1.04, p.get_height() * 1.02))\n",
    "\n",
    "for p in ax[0, 1].patches:\n",
    "    ax[0, 1].annotate(str(p.get_height()), (p.get_x() * 1.04, p.get_height() * 1.02))\n",
    "\n",
    "for p in ax[1, 0].patches:\n",
    "    ax[1, 0].annotate(str(p.get_height()), (p.get_x() * 1.04, p.get_height() * 1.02))\n",
    "\n",
    "for p in ax[1, 1].patches:\n",
    "    ax[1, 1].annotate(str(p.get_height()), (p.get_x() * 1.04, p.get_height() * 1.15))"
   ]
  },
  {
   "cell_type": "markdown",
   "id": "2f36b87d",
   "metadata": {},
   "source": [
    "<blockquote>\n",
    "    - RandomForestRegressor a les meilleurs scores  R^2 et MAE/RMSE sur les 2 variables.<br>\n",
    "    - Les variables transformées sont celles qui donnent les meilleurs scores R^2 et MAE/RMSE.<br>\n",
    "    - Nous sommes peut-être en face d'un problème de regression non linéaire à confirmer dans la suite de l'analyse.<br>\n",
    "</blockquote>"
   ]
  },
  {
   "cell_type": "markdown",
   "id": "cb411205",
   "metadata": {},
   "source": [
    "<img src='http://www.seattle.gov/Images/Council/Logos/City-of-Seattle-Logo_Color-on-Transparent.png' width=45px align=\"left\"/> \n",
    "<div style=\"vertical-align: middle\">\n",
    "    <h2>\n",
    "    <font color=#0046AD>&emsp; 3.2 Comparaison des modèles AVEC Tuning hyper-paramètres  \n",
    "        </font>\n",
    "    </h2>\n",
    "</div>"
   ]
  },
  {
   "cell_type": "markdown",
   "id": "222fe25d",
   "metadata": {},
   "source": [
    "#### <font color=#0046AD>3.2.1 Création d'une fonction pour comparer Ridge et Randomforest avec hyperparameter tunning.</font>"
   ]
  },
  {
   "cell_type": "markdown",
   "id": "c676219c",
   "metadata": {},
   "source": [
    "- Nous allons utiliser **RandomizedSearchCV** pour chercher les meilleures valeurs des hyper-paramètres des 2 modèles.<br>\n",
    "- Nous allons également utiliser une **Cross-Validation** pour comparer les scores des 2 modèles sur le **train set**."
   ]
  },
  {
   "cell_type": "code",
   "execution_count": 17,
   "id": "75a80be0",
   "metadata": {},
   "outputs": [],
   "source": [
    "def cross_evaluate_tunned_models(\n",
    "    estimators, X_train_or, y_train_or, X_train_tr, y_train_tr, y_name, grid,n_iter, n_fold\n",
    "):\n",
    "\n",
    "    from sklearn.model_selection import KFold\n",
    "    from sklearn.model_selection import RandomizedSearchCV\n",
    "    from sklearn.base import clone\n",
    "    \n",
    "    np.random.seed(20)\n",
    "    \n",
    "    model_cvs = {}\n",
    "    names = []\n",
    "    r2_or = []\n",
    "    mae_or = []\n",
    "    rmse_or = []\n",
    "    r2_tr = []\n",
    "    mae_tr = []\n",
    "    rmse_tr = []\n",
    "    or_best_estimator_dict = {}\n",
    "    tr_best_estimator_dict = {}\n",
    "\n",
    "    kfold = KFold(n_splits=n_fold, shuffle=True, random_state=20)\n",
    "\n",
    "    for model_name, model in estimators.items():\n",
    "        pipeline = Pipeline(steps=[(\"preprocessor\", preprocessor), (model_name, model)])\n",
    "\n",
    "        or_random_search = RandomizedSearchCV(\n",
    "            estimator=pipeline,\n",
    "            param_distributions=grid,\n",
    "            cv=kfold,\n",
    "            n_iter=n_iter,\n",
    "            verbose=True,\n",
    "            scoring=[\"r2\", \n",
    "             \"neg_mean_absolute_error\", \n",
    "             \"neg_root_mean_squared_error\"\n",
    "            ],\n",
    "            refit=\"r2\",\n",
    "            n_jobs=-2,\n",
    "            random_state=20,\n",
    "        ).fit(X_train_or,y_train_or)\n",
    "\n",
    "        or_cv_r2 = round(or_random_search.cv_results_[\"mean_test_r2\"].mean()*100,2)\n",
    "        or_cv_mae = round(or_random_search.cv_results_[\"mean_test_neg_mean_absolute_error\"].mean(),2)\n",
    "        or_cv_rmse = round(or_random_search.cv_results_[\"mean_test_neg_root_mean_squared_error\"].mean(),2)\n",
    "\n",
    "        r2_or.append(or_cv_r2)\n",
    "        mae_or.append(or_cv_mae)\n",
    "        rmse_or.append(or_cv_rmse)\n",
    "        \n",
    "        or_best_estimator_dict.update({model_name:or_random_search.best_estimator_})\n",
    "        \n",
    "        or_random_search = clone(or_random_search,safe=False)\n",
    "        \n",
    "        tr_random_search = RandomizedSearchCV(\n",
    "            estimator=pipeline,\n",
    "            param_distributions=grid,\n",
    "            cv=kfold,\n",
    "            n_iter=n_iter,\n",
    "            verbose=True,\n",
    "            scoring=[\"r2\", \n",
    "             \"neg_mean_absolute_error\", \n",
    "             \"neg_root_mean_squared_error\"\n",
    "            ],\n",
    "            refit=\"r2\",\n",
    "            n_jobs=-2,\n",
    "            random_state=20,\n",
    "        ).fit(X_train_tr,y_train_tr)\n",
    "\n",
    "        tr_cv_r2 = round(tr_random_search.cv_results_[\"mean_test_r2\"].mean()*100,2)\n",
    "        tr_cv_mae = round(tr_random_search.cv_results_[\"mean_test_neg_mean_absolute_error\"].mean(),2)\n",
    "        tr_cv_rmse = round(tr_random_search.cv_results_[\"mean_test_neg_root_mean_squared_error\"].mean(),2)\n",
    "\n",
    "        r2_tr.append(tr_cv_r2)\n",
    "        mae_tr.append(tr_cv_mae)\n",
    "        rmse_tr.append(tr_cv_rmse)\n",
    "        \n",
    "        tr_best_estimator_dict.update({model_name:tr_random_search.best_estimator_})\n",
    "        \n",
    "        names.append(model_name)\n",
    "        \n",
    "        tr_random_search = clone(tr_random_search,safe=False)\n",
    "\n",
    "    df = pd.DataFrame(\n",
    "        {\n",
    "            \"R^2_or\": r2_or,\n",
    "            \"MAE_or\": mae_or,\n",
    "            \"RMSE_or\": rmse_or,\n",
    "            \"R^2_tr\": r2_tr,\n",
    "            \"MAE_tr\": mae_tr,\n",
    "            \"RMSE_tr\": rmse_tr,\n",
    "        },\n",
    "        index=names,\n",
    "    ).sort_values(by=\"R^2_or\", ascending=False)\n",
    "\n",
    "    columns = [\n",
    "        (y_name + \" original data\", \"R^2_or\"),\n",
    "        (y_name + \" original data\", \"MAE_or\"),\n",
    "        (y_name + \" original data\", \"RMSE_or\"),\n",
    "        (y_name + \" transformed data\", \"R^2_tr\"),\n",
    "        (y_name + \" transformed data\", \"MAE_tr\"),\n",
    "        (y_name + \" transformed data\", \"RMSE_tr\"),\n",
    "    ]\n",
    "\n",
    "    df.columns = pd.MultiIndex.from_tuples(columns)\n",
    "\n",
    "    return df, or_best_estimator_dict,tr_best_estimator_dict"
   ]
  },
  {
   "cell_type": "markdown",
   "id": "bf7013d5",
   "metadata": {},
   "source": [
    "#### <font color=#0046AD>3.2.2 Comparaison de Ridge et Randomforest avec hyperparameter tunning.</font>"
   ]
  },
  {
   "cell_type": "markdown",
   "id": "3a03c2a8",
   "metadata": {},
   "source": [
    "- Définition de l'espace (valeurs des hyper-paramètres) à tester pour chaque modèle."
   ]
  },
  {
   "cell_type": "code",
   "execution_count": 18,
   "id": "4906052e",
   "metadata": {
    "code_folding": []
   },
   "outputs": [],
   "source": [
    "Randomforest_grid = {\n",
    "    # Nombre d'arbres dans la forêt aléatoire\n",
    "    \"randomforestregressor__n_estimators\": [100, 400, 800], #[500, 1000, 2000],\n",
    "    # Méthode de sélection des échantillons pour l'apprentissage de chaque arbre\n",
    "    \"randomforestregressor__bootstrap\":[True, False],\n",
    "    # Nombre maximum de niveaux dans l'arborescence de la forêt\n",
    "    \"randomforestregressor__max_depth\": [None, 30],    \n",
    "    # Nombre de variable à prendre en compte à chaque fractionnement\n",
    "    \"randomforestregressor__max_features\":[0.33, 0.44],\n",
    "    #\"randomforestregressor__random_state\":[20],   \n",
    "\n",
    "}\n",
    "\n",
    "\n",
    "Ridge_grid = {\n",
    "    \"Ridge__alpha\": [float(x) for x in np.linspace(0.001, 1, 20)],\n",
    "    \"Ridge__solver\" : [\"auto\", \"svd\", \"cholesky\", \"lsqr\", \"sparse_cg\", \"sag\", \"saga\"],\n",
    "    \"Ridge__normalize\" : [True, False]\n",
    "}"
   ]
  },
  {
   "cell_type": "markdown",
   "id": "922c0117",
   "metadata": {},
   "source": [
    "- Identification du meilleur modèle Ridge."
   ]
  },
  {
   "cell_type": "code",
   "execution_count": 19,
   "id": "bc527dcf",
   "metadata": {},
   "outputs": [
    {
     "name": "stdout",
     "output_type": "stream",
     "text": [
      "Fitting 4 folds for each of 15 candidates, totalling 60 fits\n",
      "Fitting 4 folds for each of 15 candidates, totalling 60 fits\n",
      "Fitting 4 folds for each of 15 candidates, totalling 60 fits\n",
      "Fitting 4 folds for each of 15 candidates, totalling 60 fits\n",
      "Wall time: 17.9 s\n"
     ]
    }
   ],
   "source": [
    "%%time\n",
    "(\n",
    "    ridge_tunned_co2, # Dataframe with R2, MAE, RMSE on co2 Emission  data \n",
    "    or_ridge_best_esimator_co2, # best Ridge estimator on co2 Emission original data\n",
    "    tr_ridge_best_estimator_co2,# best Ridge estimator on co2 Emission transformed data\n",
    ") = cross_evaluate_tunned_models(\n",
    "    estimators={\"Ridge\": Ridge()},\n",
    "    X_train_or=X_train_co2_or,\n",
    "    y_train_or=y_train_co2_or,\n",
    "    X_train_tr=X_train_co2_tr,\n",
    "    y_train_tr=y_train_co2_tr,\n",
    "    y_name=\"TotalGHGEmissions\",\n",
    "    grid=Ridge_grid,\n",
    "    n_iter=15,\n",
    "    n_fold=4\n",
    ")\n",
    "\n",
    "(\n",
    "    ridge_tunned_energy, # Dataframe with R2, MAE, RMSE on energy use data \n",
    "    or_ridge_best_esimator_energy, # best Ridge estimator on energy use original data\n",
    "    tr_ridge_best_estimator_energy,# best Ridge estimator on energy use transformed data\n",
    ") = cross_evaluate_tunned_models(\n",
    "    estimators={\"Ridge\": Ridge()},\n",
    "    X_train_or=X_train_energy_or,\n",
    "    y_train_or=y_train_energy_or,\n",
    "    X_train_tr=X_train_energy_tr,\n",
    "    y_train_tr=y_train_energy_tr,\n",
    "    y_name=\"SiteEnergyUse(kBtu)\",\n",
    "    grid=Ridge_grid,\n",
    "    n_iter=15,\n",
    "    n_fold=4\n",
    ")\n",
    "\n",
    "ridge_tunned = pd.concat([ridge_tunned_co2,ridge_tunned_energy], axis=1)"
   ]
  },
  {
   "cell_type": "markdown",
   "id": "e2cff26c",
   "metadata": {},
   "source": [
    "- Identification du meilleur modèle RandomForesetRegressor."
   ]
  },
  {
   "cell_type": "code",
   "execution_count": 20,
   "id": "d43f8939",
   "metadata": {},
   "outputs": [
    {
     "name": "stdout",
     "output_type": "stream",
     "text": [
      "Fitting 4 folds for each of 15 candidates, totalling 60 fits\n",
      "Fitting 4 folds for each of 15 candidates, totalling 60 fits\n",
      "Fitting 4 folds for each of 15 candidates, totalling 60 fits\n",
      "Fitting 4 folds for each of 15 candidates, totalling 60 fits\n",
      "Wall time: 7min 9s\n"
     ]
    }
   ],
   "source": [
    "%%time\n",
    "(\n",
    "    randomforest_tunned_co2, # Dataframe with R2, MAE, RMSE on co2 Emission  data \n",
    "    or_randomforest_best_esimator_co2, # best randomforest estimator on co2 Emission original data\n",
    "    tr_randomforest_best_estimator_co2,# best randomforest estimator on co2 Emission transformed data\n",
    ") = cross_evaluate_tunned_models(\n",
    "    estimators={\"randomforestregressor\": RandomForestRegressor()},\n",
    "    X_train_or=X_train_co2_or,\n",
    "    y_train_or=y_train_co2_or,\n",
    "    X_train_tr=X_train_co2_tr,\n",
    "    y_train_tr=y_train_co2_tr,\n",
    "    y_name=\"TotalGHGEmissions\",\n",
    "    grid=Randomforest_grid,\n",
    "    n_iter=15,\n",
    "    n_fold=4\n",
    ")\n",
    "\n",
    "(\n",
    "    randomforest_tunned_energy, # Dataframe with R2, MAE, RMSE on energy use data \n",
    "    or_randomforest_best_esimator_energy, # best randomforest estimator on energy use original data\n",
    "    tr_randomforest_best_estimator_energy,# best randomforest estimator on energy use transformed data\n",
    ") = cross_evaluate_tunned_models(\n",
    "    estimators={\"randomforestregressor\": RandomForestRegressor()},\n",
    "    X_train_or=X_train_energy_or,\n",
    "    y_train_or=y_train_energy_or,\n",
    "    X_train_tr=X_train_energy_tr,\n",
    "    y_train_tr=y_train_energy_tr,\n",
    "    y_name=\"SiteEnergyUse(kBtu)\",\n",
    "    grid=Randomforest_grid,\n",
    "    n_iter=15,\n",
    "    n_fold=4\n",
    ")\n",
    "\n",
    "randomforest_tunned = pd.concat([randomforest_tunned_co2,randomforest_tunned_energy], axis=1)"
   ]
  },
  {
   "cell_type": "code",
   "execution_count": 21,
   "id": "79ff9bf0",
   "metadata": {},
   "outputs": [
    {
     "data": {
      "text/html": [
       "<div>\n",
       "<style scoped>\n",
       "    .dataframe tbody tr th:only-of-type {\n",
       "        vertical-align: middle;\n",
       "    }\n",
       "\n",
       "    .dataframe tbody tr th {\n",
       "        vertical-align: top;\n",
       "    }\n",
       "\n",
       "    .dataframe thead tr th {\n",
       "        text-align: left;\n",
       "    }\n",
       "</style>\n",
       "<table border=\"1\" class=\"dataframe\">\n",
       "  <thead>\n",
       "    <tr>\n",
       "      <th></th>\n",
       "      <th colspan=\"3\" halign=\"left\">TotalGHGEmissions original data</th>\n",
       "      <th colspan=\"3\" halign=\"left\">TotalGHGEmissions transformed data</th>\n",
       "      <th colspan=\"3\" halign=\"left\">SiteEnergyUse(kBtu) original data</th>\n",
       "      <th colspan=\"3\" halign=\"left\">SiteEnergyUse(kBtu) transformed data</th>\n",
       "    </tr>\n",
       "    <tr>\n",
       "      <th></th>\n",
       "      <th>R^2_or</th>\n",
       "      <th>MAE_or</th>\n",
       "      <th>RMSE_or</th>\n",
       "      <th>R^2_tr</th>\n",
       "      <th>MAE_tr</th>\n",
       "      <th>RMSE_tr</th>\n",
       "      <th>R^2_or</th>\n",
       "      <th>MAE_or</th>\n",
       "      <th>RMSE_or</th>\n",
       "      <th>R^2_tr</th>\n",
       "      <th>MAE_tr</th>\n",
       "      <th>RMSE_tr</th>\n",
       "    </tr>\n",
       "  </thead>\n",
       "  <tbody>\n",
       "    <tr>\n",
       "      <th>randomforestregressor</th>\n",
       "      <td>78.39</td>\n",
       "      <td>-69.15</td>\n",
       "      <td>-233.12</td>\n",
       "      <td>74.31</td>\n",
       "      <td>-0.31</td>\n",
       "      <td>-0.48</td>\n",
       "      <td>86.71</td>\n",
       "      <td>-2028703.77</td>\n",
       "      <td>-6098220.40</td>\n",
       "      <td>86.57</td>\n",
       "      <td>-0.85</td>\n",
       "      <td>-1.39</td>\n",
       "    </tr>\n",
       "    <tr>\n",
       "      <th>Ridge</th>\n",
       "      <td>27.38</td>\n",
       "      <td>-178.94</td>\n",
       "      <td>-448.73</td>\n",
       "      <td>40.19</td>\n",
       "      <td>-0.57</td>\n",
       "      <td>-0.73</td>\n",
       "      <td>43.58</td>\n",
       "      <td>-4935660.39</td>\n",
       "      <td>-12781509.49</td>\n",
       "      <td>61.40</td>\n",
       "      <td>-1.84</td>\n",
       "      <td>-2.37</td>\n",
       "    </tr>\n",
       "  </tbody>\n",
       "</table>\n",
       "</div>"
      ],
      "text/plain": [
       "                      TotalGHGEmissions original data                  \\\n",
       "                                               R^2_or  MAE_or RMSE_or   \n",
       "randomforestregressor                           78.39  -69.15 -233.12   \n",
       "Ridge                                           27.38 -178.94 -448.73   \n",
       "\n",
       "                      TotalGHGEmissions transformed data                 \\\n",
       "                                                  R^2_tr MAE_tr RMSE_tr   \n",
       "randomforestregressor                              74.31  -0.31   -0.48   \n",
       "Ridge                                              40.19  -0.57   -0.73   \n",
       "\n",
       "                      SiteEnergyUse(kBtu) original data              \\\n",
       "                                                 R^2_or      MAE_or   \n",
       "randomforestregressor                             86.71 -2028703.77   \n",
       "Ridge                                             43.58 -4935660.39   \n",
       "\n",
       "                                   SiteEnergyUse(kBtu) transformed data  \\\n",
       "                           RMSE_or                               R^2_tr   \n",
       "randomforestregressor  -6098220.40                                86.57   \n",
       "Ridge                 -12781509.49                                61.40   \n",
       "\n",
       "                                      \n",
       "                      MAE_tr RMSE_tr  \n",
       "randomforestregressor  -0.85   -1.39  \n",
       "Ridge                  -1.84   -2.37  "
      ]
     },
     "execution_count": 21,
     "metadata": {},
     "output_type": "execute_result"
    }
   ],
   "source": [
    "models_tunned_step1 = pd.concat([randomforest_tunned,ridge_tunned])\n",
    "models_tunned_step1"
   ]
  },
  {
   "cell_type": "code",
   "execution_count": 22,
   "id": "92cd713f",
   "metadata": {},
   "outputs": [
    {
     "data": {
      "image/png": "[encoded data removed]",
      "text/plain": [
       "<Figure size 1152x1008 with 4 Axes>"
      ]
     },
     "metadata": {
      "needs_background": "light"
     },
     "output_type": "display_data"
    }
   ],
   "source": [
    "fig, ax = plt.subplots(nrows=2, ncols=2, figsize=(16, 14), sharex=True)\n",
    "\n",
    "models_tunned_step1.iloc[\n",
    "    :,\n",
    "    (\n",
    "        models_tunned_step1.columns.get_level_values(0).isin(\n",
    "            [\"TotalGHGEmissions original data\", \"TotalGHGEmissions transformed data\"]\n",
    "        )\n",
    "    )\n",
    "    & (models_tunned_step1.columns.get_level_values(1).isin([\"R^2_or\", \"R^2_tr\"])),\n",
    "].plot(\n",
    "    kind=\"bar\",\n",
    "    title=\"TotalGHGEmissions - R^2 - by model\",\n",
    "    style=\"seaborn-white\",\n",
    "    fontsize=14,\n",
    "    colormap=\"Set2\",\n",
    "    ax=ax[0, 0],\n",
    "    legend=False,\n",
    "    ylim=[0, 100],\n",
    ")\n",
    "# ax[0,0].legend()\n",
    "ax[0, 0].legend(\n",
    "    [\"Original data\", \"Transformed data\"], loc=\"lower left\", bbox_to_anchor=(2.2, 0.9)\n",
    ")\n",
    "\n",
    "# ax.hlines(23, -.5,.5, linestyles='dashed')\n",
    "\n",
    "models_tunned_step1.iloc[\n",
    "    :,\n",
    "    (\n",
    "        models_tunned_step1.columns.get_level_values(0).isin(\n",
    "            [\"TotalGHGEmissions original data\", \"TotalGHGEmissions transformed data\"]\n",
    "        )\n",
    "    )\n",
    "    & (models_tunned_step1.columns.get_level_values(1).isin([\"RMSE_or\", \"RMSE_tr\"])),\n",
    "].plot(\n",
    "    kind=\"bar\",\n",
    "    title=f\"TotalGHGEmissions - RMSE - by model\",\n",
    "    style=\"seaborn-white\",\n",
    "    fontsize=14,\n",
    "    colormap=\"Set2\",\n",
    "    ax=ax[0, 1],\n",
    "    legend=False,\n",
    ")\n",
    "\n",
    "models_tunned_step1.iloc[\n",
    "    :,\n",
    "    (\n",
    "        models_tunned_step1.columns.get_level_values(0).isin(\n",
    "            [\n",
    "                \"SiteEnergyUse(kBtu) original data\",\n",
    "                \"SiteEnergyUse(kBtu) transformed data\",\n",
    "            ]\n",
    "        )\n",
    "    )\n",
    "    & (models_tunned_step1.columns.get_level_values(1).isin([\"R^2_or\", \"R^2_tr\"])),\n",
    "].plot(\n",
    "    kind=\"bar\",\n",
    "    title=\"SiteEnergyUse(kBtu) - R^2 - by model\",\n",
    "    style=\"seaborn-white\",\n",
    "    fontsize=14,\n",
    "    colormap=\"Set2\",\n",
    "    ax=ax[1, 0],\n",
    "    legend=False,\n",
    "    ylim=[0, 100],\n",
    ")\n",
    "\n",
    "# ax.hlines(23, -.5,.5, linestyles='dashed')\n",
    "\n",
    "models_tunned_step1.iloc[\n",
    "    :,    (\n",
    "        models_tunned_step1.columns.get_level_values(0).isin(\n",
    "            [\"SiteEnergyUse(kBtu) original data\", \"SiteEnergyUse(kBtu) transformed data\"]\n",
    "        )\n",
    "    )\n",
    "    & (models_tunned_step1.columns.get_level_values(1).isin([\"RMSE_or\", \"RMSE_tr\"]))\n",
    "].plot(\n",
    "    kind=\"bar\",\n",
    "    title=\"SiteEnergyUse(kBtu) - RMSE - by model\",\n",
    "    style=\"seaborn-white\",\n",
    "    fontsize=14,\n",
    "    colormap=\"Set2\",\n",
    "    ax=ax[1, 1],\n",
    "    legend=False,\n",
    ")\n",
    "\n",
    "for p in ax[0, 0].patches:\n",
    "    ax[0, 0].annotate(str(p.get_height()), (p.get_x() * 1.04, p.get_height() * 1.02))\n",
    "\n",
    "for p in ax[0, 1].patches:\n",
    "    ax[0, 1].annotate(str(p.get_height()), (p.get_x() * 1.04, p.get_height() * 1.02))\n",
    "\n",
    "for p in ax[1, 0].patches:\n",
    "    ax[1, 0].annotate(str(p.get_height()), (p.get_x() * 1.04, p.get_height() * 1.02))\n",
    "\n",
    "for p in ax[1, 1].patches:\n",
    "    ax[1, 1].annotate(str(p.get_height()), (p.get_x() * 1.04, p.get_height() * 1.15))"
   ]
  },
  {
   "cell_type": "markdown",
   "id": "59b66ba3",
   "metadata": {},
   "source": [
    "<blockquote>\n",
    "    - Après cette étape,  il s'avère qu'en effet RandomForest a les meilleurs scores  R^2 et MAE/RMSE sur les 2 variables.<br>\n",
    "    - Cela confirme  bien sommes en face d'un problème de régression non linéaire.<br>\n",
    "    - Dans le reste de l'analyse nous allons utiliser Les variables à prédire transformées, car c'est elles qui donnent les meilleurs scores R^2 et MAE/RMSE.<br>\n",
    "    - Par contre, <font color=red><b> le temps d'entrainement est longtemps > 1h20min </b></font>, en partie à cause la performance de mon PC ==> Penser à utiliser une VM dans le futur plus puissante.\n",
    "</blockquote>"
   ]
  },
  {
   "cell_type": "markdown",
   "id": "685f5395",
   "metadata": {},
   "source": [
    "#### <font color=#0046AD>3.2.3 Les meilleurs hyperparamètres de Randomforest.</font>"
   ]
  },
  {
   "cell_type": "markdown",
   "id": "68603f25",
   "metadata": {},
   "source": [
    "- Le meilleur estimateur pour la variable : TotalGHGEmissions (emission de co2 par bâtiment)"
   ]
  },
  {
   "cell_type": "code",
   "execution_count": 23,
   "id": "6bc11257",
   "metadata": {},
   "outputs": [
    {
     "data": {
      "text/plain": [
       "{'randomforestregressor': Pipeline(steps=[('preprocessor',\n",
       "                  ColumnTransformer(remainder='passthrough',\n",
       "                                    transformers=[('numerical',\n",
       "                                                   Pipeline(steps=[('scaler',\n",
       "                                                                    StandardScaler())]),\n",
       "                                                   Index(['NumberofBuildings', 'NumberofFloors', 'PropertyGFATotal',\n",
       "        'PropertyGFAParking', 'PropertyGFABuilding(s)',\n",
       "        'LargestPropertyUseTypeGFA', 'SecondLargestPropertyUseTypeGFA',\n",
       "        'ThirdLargestPropertyUseTypeGFA'...\n",
       "                                                   Pipeline(steps=[('onehot',\n",
       "                                                                    OneHotEncoder(handle_unknown='ignore',\n",
       "                                                                                  sparse=False))]),\n",
       "                                                   Index(['BuildingType', 'PrimaryPropertyType', 'Neighborhood',\n",
       "        'LargestPropertyUseType', 'SecondLargestPropertyUseType',\n",
       "        'ThirdLargestPropertyUseType', 'ComplianceStatus'],\n",
       "       dtype='object'))])),\n",
       "                 ('randomforestregressor',\n",
       "                  RandomForestRegressor(bootstrap=False, max_features=0.33,\n",
       "                                        n_estimators=800))])}"
      ]
     },
     "execution_count": 23,
     "metadata": {},
     "output_type": "execute_result"
    }
   ],
   "source": [
    "tr_randomforest_best_estimator_co2"
   ]
  },
  {
   "cell_type": "markdown",
   "id": "f50e6dc5",
   "metadata": {},
   "source": [
    "- Le meilleur estimateur pour la variable : SiteEnergyUse(kBtu) (consommation d'energie par bâtiment) "
   ]
  },
  {
   "cell_type": "code",
   "execution_count": 24,
   "id": "bb0ba696",
   "metadata": {},
   "outputs": [
    {
     "data": {
      "text/plain": [
       "{'randomforestregressor': Pipeline(steps=[('preprocessor',\n",
       "                  ColumnTransformer(remainder='passthrough',\n",
       "                                    transformers=[('numerical',\n",
       "                                                   Pipeline(steps=[('scaler',\n",
       "                                                                    StandardScaler())]),\n",
       "                                                   Index(['NumberofBuildings', 'NumberofFloors', 'PropertyGFATotal',\n",
       "        'PropertyGFAParking', 'PropertyGFABuilding(s)',\n",
       "        'LargestPropertyUseTypeGFA', 'SecondLargestPropertyUseTypeGFA',\n",
       "        'ThirdLargestPropertyUseTypeGFA'...\n",
       "                                                   Pipeline(steps=[('onehot',\n",
       "                                                                    OneHotEncoder(handle_unknown='ignore',\n",
       "                                                                                  sparse=False))]),\n",
       "                                                   Index(['BuildingType', 'PrimaryPropertyType', 'Neighborhood',\n",
       "        'LargestPropertyUseType', 'SecondLargestPropertyUseType',\n",
       "        'ThirdLargestPropertyUseType', 'ComplianceStatus'],\n",
       "       dtype='object'))])),\n",
       "                 ('randomforestregressor',\n",
       "                  RandomForestRegressor(bootstrap=False, max_depth=30,\n",
       "                                        max_features=0.33))])}"
      ]
     },
     "execution_count": 24,
     "metadata": {},
     "output_type": "execute_result"
    }
   ],
   "source": [
    "tr_randomforest_best_estimator_energy"
   ]
  },
  {
   "cell_type": "markdown",
   "id": "074dbdde",
   "metadata": {},
   "source": [
    "#### <font color=#0046AD>3.2.3 Comparer RandomForest Regressor avec d'autre modèle non-linéaire.</font>"
   ]
  },
  {
   "cell_type": "markdown",
   "id": "ef39f898",
   "metadata": {},
   "source": [
    "- Importation des modèles non-linéaires à tester.\n",
    "- Création d'un espace de valeurs d'hyper-paramètres à tester par modèle."
   ]
  },
  {
   "cell_type": "code",
   "execution_count": 25,
   "id": "f51fb954",
   "metadata": {},
   "outputs": [],
   "source": [
    "from sklearn.neighbors import KNeighborsRegressor\n",
    "from sklearn.svm import SVR\n",
    "from sklearn.ensemble import AdaBoostRegressor\n",
    "from xgboost import XGBRegressor\n",
    "# from sklearn.tree import DecisionTreeRegressor\n",
    "# from sklearn.ensemble import GradientBoostingRegressor\n",
    "# from sklearn.ensemble import BaggingRegressor\n",
    "\n",
    "\n",
    "model_params = {\n",
    "    'KNN-Regressor': {\n",
    "        'model': KNeighborsRegressor(),\n",
    "        'params' : {\n",
    "            'KNN-Regressor__n_neighbors': [2,4,6], \n",
    "            'KNN-Regressor__weights': ['uniform','distance']\n",
    "        }  \n",
    "   },\n",
    "    'SVR': {\n",
    "        'model': SVR(),\n",
    "        'params' : {\n",
    "            \"SVR__kernel\": [\"rbf\",\"poly\",\"sigmoid\"],\n",
    "            \"SVR__C\": [10, 100],\n",
    "            \"SVR__gamma\": [\"scale\", \"auto\"],\n",
    "        }\n",
    "    },\n",
    "    \n",
    "    'AdaBoost-Regressor': {\n",
    "        'model': AdaBoostRegressor(random_state=20),\n",
    "        'params' : {\n",
    "            \"AdaBoost-Regressor__n_estimators\": [50, 100],\n",
    "            \"AdaBoost-Regressor__learning_rate\" : [0.01,0.05,0.1,0.3,1],\n",
    "            \"AdaBoost-Regressor__loss\" : ['square', 'exponential']\n",
    "\n",
    "        }\n",
    "    },\n",
    "    'XGB-Regressor': {\n",
    "        'model': XGBRegressor(),\n",
    "        'params' : {\n",
    "            \"XGB-Regressor__max_depth\": [5, 10],\n",
    "            \"XGB-Regressor__\" : [0.05,0,1],\n",
    "            \"XGB-Regressor__learning_rate\": [0.01, 0.1],\n",
    "            \"XGB-Regressor__min_child_weight\": [1, 3, 5],\n",
    "            \"XGB-Regressor__subsample\": [0.5, 0.7],\n",
    "            \"XGB-Regressor__colsample_bytree\": [0.5, 0.7],\n",
    "            \"XGB-Regressor__n_estimators\": [100, 200, 500]\n",
    "        }\n",
    "    },\n",
    "    'randomforestregressor': {\n",
    "        'model': RandomForestRegressor(),\n",
    "        'params' : {\n",
    "            \"randomforestregressor__n_estimators\": [100, 400, 800],\n",
    "            \"randomforestregressor__bootstrap\":[True, False],\n",
    "            \"randomforestregressor__max_depth\": [None, 30],\n",
    "            \"randomforestregressor__max_features\":[0.33, 0.44],\n",
    "        }\n",
    "    },\n",
    "}"
   ]
  },
  {
   "cell_type": "markdown",
   "id": "2fd78e29",
   "metadata": {},
   "source": [
    "- Création d'une fonction pour le tunning des hyper-paramètres"
   ]
  },
  {
   "cell_type": "code",
   "execution_count": 26,
   "id": "648ccf67",
   "metadata": {},
   "outputs": [],
   "source": [
    "def tunne_models_v2(estimator_params, X_train_tr, y_train_tr, y_name, n_iter, n_fold):\n",
    "\n",
    "    from sklearn.model_selection import KFold\n",
    "    from sklearn.model_selection import RandomizedSearchCV\n",
    "\n",
    "    kfold = KFold(n_splits=n_fold, shuffle=True, random_state=20)\n",
    "\n",
    "    scores = []\n",
    "\n",
    "    for model_name, mp in estimator_params.items():\n",
    "\n",
    "        pipeline = Pipeline(\n",
    "            steps=[(\"preprocessor\", preprocessor), (model_name, mp[\"model\"])]\n",
    "        )\n",
    "\n",
    "        random_search = RandomizedSearchCV(\n",
    "            estimator=pipeline,\n",
    "            param_distributions=mp[\"params\"],\n",
    "            cv=kfold,\n",
    "            n_iter=n_iter,\n",
    "            verbose=True,\n",
    "            scoring=[\"r2\", \n",
    "             \"neg_mean_absolute_error\", \n",
    "             \"neg_root_mean_squared_error\"\n",
    "                    ],\n",
    "            refit=\"r2\",\n",
    "            n_jobs=-2,\n",
    "            random_state=20,\n",
    "        ).fit(X_train_tr, y_train_tr)\n",
    "        \n",
    "        scores.append(\n",
    "            {\n",
    "                \"model\": model_name,\n",
    "                \"R^2\": round(random_search.cv_results_[\"mean_test_r2\"].mean()*100,2),\n",
    "                \"MAE\": round(random_search.cv_results_[\"mean_test_neg_mean_absolute_error\"].mean(),2),\n",
    "                \"RMSE\": round(random_search.cv_results_[\"mean_test_neg_root_mean_squared_error\"].mean(),2),\n",
    "                \"best_params\": random_search.best_params_,\n",
    "            }\n",
    "        )\n",
    "\n",
    "    df = pd.DataFrame(scores, columns=[\"model\", \"R^2\", \"MAE\",\"RMSE\",\"best_params\"])\n",
    "\n",
    "    return df"
   ]
  },
  {
   "cell_type": "markdown",
   "id": "50345050",
   "metadata": {},
   "source": [
    "- Afficher le résultat du tunning des hyper-paramètres pour la variable **TotalGHGEmissions**"
   ]
  },
  {
   "cell_type": "code",
   "execution_count": 27,
   "id": "70574268",
   "metadata": {},
   "outputs": [
    {
     "name": "stdout",
     "output_type": "stream",
     "text": [
      "Fitting 5 folds for each of 5 candidates, totalling 25 fits\n",
      "Fitting 5 folds for each of 5 candidates, totalling 25 fits\n",
      "Fitting 5 folds for each of 5 candidates, totalling 25 fits\n",
      "Fitting 5 folds for each of 5 candidates, totalling 25 fits\n",
      "[13:45:30] WARNING: C:/Users/Administrator/workspace/xgboost-win64_release_1.4.0/src/learner.cc:573: \n",
      "Parameters: { \"\" } might not be used.\n",
      "\n",
      "  This may not be accurate due to some parameters are only used in language bindings but\n",
      "  passed down to XGBoost core.  Or some parameters are not used but slip through this\n",
      "  verification. Please open an issue if you find above cases.\n",
      "\n",
      "\n",
      "Fitting 5 folds for each of 5 candidates, totalling 25 fits\n",
      "Wall time: 1min 33s\n"
     ]
    },
    {
     "data": {
      "text/html": [
       "<div>\n",
       "<style scoped>\n",
       "    .dataframe tbody tr th:only-of-type {\n",
       "        vertical-align: middle;\n",
       "    }\n",
       "\n",
       "    .dataframe tbody tr th {\n",
       "        vertical-align: top;\n",
       "    }\n",
       "\n",
       "    .dataframe thead th {\n",
       "        text-align: right;\n",
       "    }\n",
       "</style>\n",
       "<table border=\"1\" class=\"dataframe\">\n",
       "  <thead>\n",
       "    <tr style=\"text-align: right;\">\n",
       "      <th></th>\n",
       "      <th>model</th>\n",
       "      <th>R^2</th>\n",
       "      <th>MAE</th>\n",
       "      <th>RMSE</th>\n",
       "      <th>best_params</th>\n",
       "    </tr>\n",
       "  </thead>\n",
       "  <tbody>\n",
       "    <tr>\n",
       "      <th>0</th>\n",
       "      <td>KNN-Regressor</td>\n",
       "      <td>5.172000e+01</td>\n",
       "      <td>-0.47</td>\n",
       "      <td>-0.65</td>\n",
       "      <td>{'KNN-Regressor__weights': 'distance', 'KNN-Re...</td>\n",
       "    </tr>\n",
       "    <tr>\n",
       "      <th>1</th>\n",
       "      <td>SVR</td>\n",
       "      <td>-2.372339e+08</td>\n",
       "      <td>-192.87</td>\n",
       "      <td>-646.33</td>\n",
       "      <td>{'SVR__kernel': 'rbf', 'SVR__gamma': 'scale', ...</td>\n",
       "    </tr>\n",
       "    <tr>\n",
       "      <th>2</th>\n",
       "      <td>AdaBoost-Regressor</td>\n",
       "      <td>4.197000e+01</td>\n",
       "      <td>-0.58</td>\n",
       "      <td>-0.71</td>\n",
       "      <td>{'AdaBoost-Regressor__n_estimators': 50, 'AdaB...</td>\n",
       "    </tr>\n",
       "    <tr>\n",
       "      <th>3</th>\n",
       "      <td>XGB-Regressor</td>\n",
       "      <td>7.475000e+01</td>\n",
       "      <td>-0.33</td>\n",
       "      <td>-0.47</td>\n",
       "      <td>{'XGB-Regressor__subsample': 0.5, 'XGB-Regress...</td>\n",
       "    </tr>\n",
       "    <tr>\n",
       "      <th>4</th>\n",
       "      <td>randomforestregressor</td>\n",
       "      <td>7.502000e+01</td>\n",
       "      <td>-0.31</td>\n",
       "      <td>-0.47</td>\n",
       "      <td>{'randomforestregressor__n_estimators': 400, '...</td>\n",
       "    </tr>\n",
       "  </tbody>\n",
       "</table>\n",
       "</div>"
      ],
      "text/plain": [
       "                   model           R^2     MAE    RMSE  \\\n",
       "0          KNN-Regressor  5.172000e+01   -0.47   -0.65   \n",
       "1                    SVR -2.372339e+08 -192.87 -646.33   \n",
       "2     AdaBoost-Regressor  4.197000e+01   -0.58   -0.71   \n",
       "3          XGB-Regressor  7.475000e+01   -0.33   -0.47   \n",
       "4  randomforestregressor  7.502000e+01   -0.31   -0.47   \n",
       "\n",
       "                                         best_params  \n",
       "0  {'KNN-Regressor__weights': 'distance', 'KNN-Re...  \n",
       "1  {'SVR__kernel': 'rbf', 'SVR__gamma': 'scale', ...  \n",
       "2  {'AdaBoost-Regressor__n_estimators': 50, 'AdaB...  \n",
       "3  {'XGB-Regressor__subsample': 0.5, 'XGB-Regress...  \n",
       "4  {'randomforestregressor__n_estimators': 400, '...  "
      ]
     },
     "execution_count": 27,
     "metadata": {},
     "output_type": "execute_result"
    }
   ],
   "source": [
    "%%time\n",
    "\n",
    "co2_other_models = tunne_models_v2(\n",
    "    estimator_params=model_params,\n",
    "    X_train_tr=X_train_co2_tr,\n",
    "    y_train_tr=y_train_co2_tr,\n",
    "    y_name=\"TotalGHGEmissions\",\n",
    "    n_iter=5,\n",
    "    n_fold=5,\n",
    ")\n",
    "\n",
    "co2_other_models"
   ]
  },
  {
   "cell_type": "code",
   "execution_count": 28,
   "id": "74d87f42",
   "metadata": {},
   "outputs": [
    {
     "data": {
      "image/png": "[encoded data removed]",
      "text/plain": [
       "<Figure size 1152x576 with 3 Axes>"
      ]
     },
     "metadata": {},
     "output_type": "display_data"
    }
   ],
   "source": [
    "sns.set(style=\"white\", font_scale=1.2)\n",
    "\n",
    "fig, ax = plt.subplots(nrows=1, ncols=3, figsize=(16, 8))\n",
    "\n",
    "sns.barplot(\n",
    "    data=co2_other_models[co2_other_models[\"R^2\"] > 0],\n",
    "    y=\"R^2\",\n",
    "    x=co2_other_models[\"model\"],\n",
    "    orient=\"v\",\n",
    "    ax=ax[0],\n",
    ")\n",
    "\n",
    "ax[0].set(title=\"R^2 - TotalGHGEmissions\", ylabel=None, ylim=[40,100])\n",
    "ax[0].bar_label(ax[0].containers[0])\n",
    "ax[0].set_xticklabels(ax[0].get_xticklabels(), rotation=40, ha=\"right\")\n",
    "\n",
    "\n",
    "sns.barplot(\n",
    "    data=co2_other_models[co2_other_models[\"R^2\"] > 0],\n",
    "    y=\"MAE\",\n",
    "    x=co2_other_models[\"model\"],\n",
    "    orient=\"v\",\n",
    "    ax=ax[1],\n",
    ")\n",
    "\n",
    "ax[1].set(title=\"MAE - TotalGHGEmissions\", ylabel=None)\n",
    "ax[1].bar_label(ax[1].containers[0])\n",
    "ax[1].set_xticklabels(ax[1].get_xticklabels(), rotation=40, ha=\"right\")\n",
    "\n",
    "\n",
    "sns.barplot(\n",
    "    data=co2_other_models[co2_other_models[\"R^2\"] > 0],\n",
    "    y=\"RMSE\",\n",
    "    x=co2_other_models[\"model\"],\n",
    "    orient=\"v\",\n",
    "    ax=ax[2],\n",
    ")\n",
    "\n",
    "ax[2].set(title=\"RMSE - TotalGHGEmissions\", ylabel=None)\n",
    "ax[2].bar_label(ax[2].containers[0])\n",
    "ax[2].set_xticklabels(ax[2].get_xticklabels(), rotation=40, ha=\"right\")\n",
    "\n",
    "\n",
    "fig.tight_layout;"
   ]
  },
  {
   "cell_type": "markdown",
   "id": "2ced6c7d",
   "metadata": {},
   "source": [
    "- Best estimateur de RandomForestRegressor pour la variable **TotalGHGEmissions**"
   ]
  },
  {
   "cell_type": "code",
   "execution_count": 29,
   "id": "b165dee1",
   "metadata": {},
   "outputs": [
    {
     "data": {
      "text/plain": [
       "{'best_params': {4: {'randomforestregressor__n_estimators': 400,\n",
       "   'randomforestregressor__max_features': 0.33,\n",
       "   'randomforestregressor__max_depth': None,\n",
       "   'randomforestregressor__bootstrap': False}}}"
      ]
     },
     "execution_count": 29,
     "metadata": {},
     "output_type": "execute_result"
    }
   ],
   "source": [
    "co2_other_models.loc[co2_other_models[\"model\"]==\"randomforestregressor\",[\"best_params\"]].to_dict()"
   ]
  },
  {
   "cell_type": "markdown",
   "id": "fe0d8e4b",
   "metadata": {},
   "source": [
    "- Afficher le résultat du tunning des hyper-paramètres pour la variable **SiteEnergyUse(kBtu)**"
   ]
  },
  {
   "cell_type": "code",
   "execution_count": 30,
   "id": "71411bb8",
   "metadata": {},
   "outputs": [
    {
     "name": "stdout",
     "output_type": "stream",
     "text": [
      "Fitting 5 folds for each of 5 candidates, totalling 25 fits\n",
      "Fitting 5 folds for each of 5 candidates, totalling 25 fits\n",
      "Fitting 5 folds for each of 5 candidates, totalling 25 fits\n",
      "Fitting 5 folds for each of 5 candidates, totalling 25 fits\n",
      "[13:47:05] WARNING: C:/Users/Administrator/workspace/xgboost-win64_release_1.4.0/src/learner.cc:573: \n",
      "Parameters: { \"\" } might not be used.\n",
      "\n",
      "  This may not be accurate due to some parameters are only used in language bindings but\n",
      "  passed down to XGBoost core.  Or some parameters are not used but slip through this\n",
      "  verification. Please open an issue if you find above cases.\n",
      "\n",
      "\n",
      "Fitting 5 folds for each of 5 candidates, totalling 25 fits\n",
      "Wall time: 1min 32s\n"
     ]
    },
    {
     "data": {
      "text/html": [
       "<div>\n",
       "<style scoped>\n",
       "    .dataframe tbody tr th:only-of-type {\n",
       "        vertical-align: middle;\n",
       "    }\n",
       "\n",
       "    .dataframe tbody tr th {\n",
       "        vertical-align: top;\n",
       "    }\n",
       "\n",
       "    .dataframe thead th {\n",
       "        text-align: right;\n",
       "    }\n",
       "</style>\n",
       "<table border=\"1\" class=\"dataframe\">\n",
       "  <thead>\n",
       "    <tr style=\"text-align: right;\">\n",
       "      <th></th>\n",
       "      <th>model</th>\n",
       "      <th>R^2</th>\n",
       "      <th>MAE</th>\n",
       "      <th>RMSE</th>\n",
       "      <th>best_params</th>\n",
       "    </tr>\n",
       "  </thead>\n",
       "  <tbody>\n",
       "    <tr>\n",
       "      <th>0</th>\n",
       "      <td>KNN-Regressor</td>\n",
       "      <td>69.56</td>\n",
       "      <td>-1.46</td>\n",
       "      <td>-2.10</td>\n",
       "      <td>{'KNN-Regressor__weights': 'distance', 'KNN-Re...</td>\n",
       "    </tr>\n",
       "    <tr>\n",
       "      <th>1</th>\n",
       "      <td>SVR</td>\n",
       "      <td>-14331594.08</td>\n",
       "      <td>-193.15</td>\n",
       "      <td>-648.19</td>\n",
       "      <td>{'SVR__kernel': 'rbf', 'SVR__gamma': 'scale', ...</td>\n",
       "    </tr>\n",
       "    <tr>\n",
       "      <th>2</th>\n",
       "      <td>AdaBoost-Regressor</td>\n",
       "      <td>65.34</td>\n",
       "      <td>-1.68</td>\n",
       "      <td>-2.24</td>\n",
       "      <td>{'AdaBoost-Regressor__n_estimators': 50, 'AdaB...</td>\n",
       "    </tr>\n",
       "    <tr>\n",
       "      <th>3</th>\n",
       "      <td>XGB-Regressor</td>\n",
       "      <td>87.30</td>\n",
       "      <td>-0.89</td>\n",
       "      <td>-1.35</td>\n",
       "      <td>{'XGB-Regressor__subsample': 0.5, 'XGB-Regress...</td>\n",
       "    </tr>\n",
       "    <tr>\n",
       "      <th>4</th>\n",
       "      <td>randomforestregressor</td>\n",
       "      <td>86.45</td>\n",
       "      <td>-0.85</td>\n",
       "      <td>-1.40</td>\n",
       "      <td>{'randomforestregressor__n_estimators': 400, '...</td>\n",
       "    </tr>\n",
       "  </tbody>\n",
       "</table>\n",
       "</div>"
      ],
      "text/plain": [
       "                   model          R^2     MAE    RMSE  \\\n",
       "0          KNN-Regressor        69.56   -1.46   -2.10   \n",
       "1                    SVR -14331594.08 -193.15 -648.19   \n",
       "2     AdaBoost-Regressor        65.34   -1.68   -2.24   \n",
       "3          XGB-Regressor        87.30   -0.89   -1.35   \n",
       "4  randomforestregressor        86.45   -0.85   -1.40   \n",
       "\n",
       "                                         best_params  \n",
       "0  {'KNN-Regressor__weights': 'distance', 'KNN-Re...  \n",
       "1  {'SVR__kernel': 'rbf', 'SVR__gamma': 'scale', ...  \n",
       "2  {'AdaBoost-Regressor__n_estimators': 50, 'AdaB...  \n",
       "3  {'XGB-Regressor__subsample': 0.5, 'XGB-Regress...  \n",
       "4  {'randomforestregressor__n_estimators': 400, '...  "
      ]
     },
     "execution_count": 30,
     "metadata": {},
     "output_type": "execute_result"
    }
   ],
   "source": [
    "%%time\n",
    "\n",
    "energy_other_models = tunne_models_v2(\n",
    "    estimator_params=model_params,\n",
    "    X_train_tr=X_train_energy_tr,\n",
    "    y_train_tr=y_train_energy_tr,\n",
    "    y_name=\"SiteEnergyUse(kBtu)\",\n",
    "    n_iter=5,\n",
    "    n_fold=5,\n",
    ")\n",
    "\n",
    "energy_other_models"
   ]
  },
  {
   "cell_type": "code",
   "execution_count": 31,
   "id": "8b0f0cf2",
   "metadata": {},
   "outputs": [
    {
     "data": {
      "image/png": "[encoded data removed]",
      "text/plain": [
       "<Figure size 1152x576 with 3 Axes>"
      ]
     },
     "metadata": {},
     "output_type": "display_data"
    }
   ],
   "source": [
    "sns.set(style=\"white\", font_scale=1.2)\n",
    "\n",
    "fig, ax = plt.subplots(nrows=1, ncols=3, figsize=(16, 8))\n",
    "\n",
    "sns.barplot(\n",
    "    data=energy_other_models[energy_other_models[\"R^2\"] > 0],\n",
    "    y=\"R^2\",\n",
    "    x=energy_other_models[\"model\"],\n",
    "    orient=\"v\",\n",
    "    ax=ax[0],\n",
    ")\n",
    "\n",
    "ax[0].set(title=\"R^2 - SiteEnergyUse(kBtu)\", ylabel=None, ylim=[60,100])\n",
    "ax[0].bar_label(ax[0].containers[0])\n",
    "ax[0].set_xticklabels(ax[0].get_xticklabels(), rotation=40, ha=\"right\")\n",
    "\n",
    "\n",
    "sns.barplot(\n",
    "    data=energy_other_models[energy_other_models[\"R^2\"] > 0],\n",
    "    y=\"MAE\",\n",
    "    x=energy_other_models[\"model\"],\n",
    "    orient=\"v\",\n",
    "    ax=ax[1],\n",
    ")\n",
    "\n",
    "ax[1].set(title=\"MAE - SiteEnergyUse(kBtu)\", ylabel=None)\n",
    "ax[1].bar_label(ax[1].containers[0])\n",
    "ax[1].set_xticklabels(ax[1].get_xticklabels(), rotation=40, ha=\"right\")\n",
    "\n",
    "\n",
    "sns.barplot(\n",
    "    data=energy_other_models[energy_other_models[\"R^2\"] > 0],\n",
    "    y=\"RMSE\",\n",
    "    x=energy_other_models[\"model\"],\n",
    "    orient=\"v\",\n",
    "    ax=ax[2],\n",
    ")\n",
    "\n",
    "ax[2].set(title=\"RMSE - SiteEnergyUse(kBtu)\", ylabel=None)\n",
    "ax[2].bar_label(ax[2].containers[0])\n",
    "ax[2].set_xticklabels(ax[2].get_xticklabels(), rotation=40, ha=\"right\")\n",
    "\n",
    "\n",
    "fig.tight_layout;"
   ]
  },
  {
   "cell_type": "markdown",
   "id": "b990575f",
   "metadata": {},
   "source": [
    "- Best estimateur de RandomForestRegressor pour la variable **SiteEnergyUse(kBtu)**"
   ]
  },
  {
   "cell_type": "code",
   "execution_count": 32,
   "id": "58019e72",
   "metadata": {
    "scrolled": true
   },
   "outputs": [
    {
     "data": {
      "text/plain": [
       "{'best_params': {3: {'XGB-Regressor__subsample': 0.5,\n",
       "   'XGB-Regressor__n_estimators': 200,\n",
       "   'XGB-Regressor__min_child_weight': 1,\n",
       "   'XGB-Regressor__max_depth': 10,\n",
       "   'XGB-Regressor__learning_rate': 0.1,\n",
       "   'XGB-Regressor__colsample_bytree': 0.5,\n",
       "   'XGB-Regressor__': 0.05}}}"
      ]
     },
     "execution_count": 32,
     "metadata": {},
     "output_type": "execute_result"
    }
   ],
   "source": [
    "energy_other_models.loc[energy_other_models[\"model\"]==\"XGB-Regressor\",[\"best_params\"]].to_dict()"
   ]
  },
  {
   "cell_type": "markdown",
   "id": "89cb4f68",
   "metadata": {},
   "source": [
    "*********\n",
    "# <font color=#025172>Chapitre 4 : Feature selection</font>\n",
    "*********"
   ]
  },
  {
   "cell_type": "markdown",
   "id": "6d559894",
   "metadata": {},
   "source": [
    "- L'objectif de cette section est de réduire le temps d'entrainement des modèles.\n",
    "- Cet objectif passe par 2 étapes :\n",
    "    - La réduction du nombre de variables d'entrée sans impacter la performance des modèles.<br>\n",
    "    - Trouver une stratégie d'hyper-paramètres plus rapide que RandomizedSeachCV."
   ]
  },
  {
   "cell_type": "markdown",
   "id": "73d17603",
   "metadata": {},
   "source": [
    "<img src='http://www.seattle.gov/Images/Council/Logos/City-of-Seattle-Logo_Color-on-Transparent.png' width=45px align=\"left\"/> \n",
    "<div style=\"vertical-align: middle\">\n",
    "    <h2>\n",
    "    <font color=#0046AD>&emsp; 4.1 Feature selection sur la variable transformée: TotalGHGEmissions\n",
    "        </font>\n",
    "    </h2>\n",
    "</div>"
   ]
  },
  {
   "cell_type": "code",
   "execution_count": 33,
   "id": "97458a8e",
   "metadata": {},
   "outputs": [
    {
     "name": "stdout",
     "output_type": "stream",
     "text": [
      "Fitting 5 folds for each of 4 candidates, totalling 20 fits\n",
      "R^2 moyen cv :  76.08\n",
      "MEA cv:  -0.28\n",
      "RMSE cv:  -0.46\n",
      "--------------------------------------------------------------------------------\n",
      "meilleur score R^2 76.29\n",
      "Wall time: 43.3 s\n"
     ]
    }
   ],
   "source": [
    "%%time \n",
    "from sklearn.model_selection import KFold\n",
    "from sklearn.model_selection import GridSearchCV\n",
    "from sklearn.feature_selection import SelectKBest, mutual_info_regression\n",
    "\n",
    "\n",
    "np.random.seed(20)\n",
    "\n",
    "rf_co2_estimator = RandomForestRegressor(bootstrap=False,\n",
    "                                         max_features=0.33,\n",
    "                                         n_estimators=400,\n",
    "                                         random_state=20\n",
    "                                        )\n",
    "\n",
    "\n",
    "pipeline_co2 = Pipeline([(\"preprocessor\", preprocessor),\n",
    "                         (\"selector\", SelectKBest(mutual_info_regression)),\n",
    "                         (\"randomforestregressor\", rf_co2_estimator)\n",
    "                        ])\n",
    "\n",
    "search_space = [{\"selector__k\": [30, 50, 60, 70]}]\n",
    "\n",
    "kfold = KFold(n_splits=5, shuffle=True, random_state=20)\n",
    "\n",
    "co2_selector_search = GridSearchCV(\n",
    "    estimator=pipeline_co2,\n",
    "    param_grid=search_space,\n",
    "    cv=kfold,\n",
    "    verbose=True,\n",
    "    scoring=[\"r2\",\n",
    "             \"neg_mean_absolute_error\",\n",
    "             \"neg_root_mean_squared_error\"\n",
    "            ],\n",
    "    refit=\"r2\",\n",
    "    n_jobs=-2,\n",
    ").fit(X_train_co2_tr,y_train_co2_tr)\n",
    "\n",
    "\n",
    "co2_selector_r2 = round(co2_selector_search.cv_results_[\"mean_test_r2\"].mean()*100,2)\n",
    "co2_selector_mae = round(co2_selector_search.cv_results_[\"mean_test_neg_mean_absolute_error\"].mean(),2)\n",
    "co2_selector_rmse = round(co2_selector_search.cv_results_[\"mean_test_neg_root_mean_squared_error\"].mean(),2)\n",
    "\n",
    "print(\"R^2 moyen cv : \", co2_selector_r2)\n",
    "print(\"MEA cv: \", co2_selector_mae)\n",
    "print(\"RMSE cv: \", co2_selector_rmse)\n",
    "print(\"-\" * 80)\n",
    "print(\"meilleur score R^2\",round(co2_selector_search.best_score_ * 100, 2))"
   ]
  },
  {
   "cell_type": "markdown",
   "id": "e26292b7",
   "metadata": {},
   "source": [
    "- La meilleure valeur de k qui permet d'avoir le meilleur score R^2"
   ]
  },
  {
   "cell_type": "code",
   "execution_count": 34,
   "id": "4ee2f9da",
   "metadata": {},
   "outputs": [
    {
     "data": {
      "text/plain": [
       "{'selector__k': 70}"
      ]
     },
     "execution_count": 34,
     "metadata": {},
     "output_type": "execute_result"
    }
   ],
   "source": [
    "co2_selector_search.best_params_"
   ]
  },
  {
   "cell_type": "code",
   "execution_count": 35,
   "id": "ef5a481c",
   "metadata": {},
   "outputs": [
    {
     "data": {
      "text/plain": [
       "96"
      ]
     },
     "execution_count": 35,
     "metadata": {},
     "output_type": "execute_result"
    }
   ],
   "source": [
    "len(co2_selector_search.best_estimator_.named_steps['selector'].get_support())"
   ]
  },
  {
   "cell_type": "code",
   "execution_count": 36,
   "id": "7dd4176a",
   "metadata": {},
   "outputs": [
    {
     "data": {
      "text/plain": [
       "70"
      ]
     },
     "execution_count": 36,
     "metadata": {},
     "output_type": "execute_result"
    }
   ],
   "source": [
    "sum(co2_selector_search.best_estimator_.named_steps['selector'].get_support())"
   ]
  },
  {
   "cell_type": "markdown",
   "id": "8c476736",
   "metadata": {},
   "source": [
    "<blockquote>\n",
    "    - Avec une valeur k=70, SelectKBest() réduira le nombre de variables avec RandomForestRegressor de 104 variables à 70 seulement.\n",
    "</blockquote>"
   ]
  },
  {
   "cell_type": "markdown",
   "id": "7d2a1e63",
   "metadata": {},
   "source": [
    "<img src='http://www.seattle.gov/Images/Council/Logos/City-of-Seattle-Logo_Color-on-Transparent.png' width=45px align=\"left\"/> \n",
    "<div style=\"vertical-align: middle\">\n",
    "    <h2>\n",
    "    <font color=#0046AD>&emsp; 4.2 Feature selection sur la variable transformée: SiteEnergyUse(kBtu)\n",
    "        </font>\n",
    "    </h2>\n",
    "</div>"
   ]
  },
  {
   "cell_type": "code",
   "execution_count": 66,
   "id": "9cff94a4",
   "metadata": {},
   "outputs": [
    {
     "name": "stdout",
     "output_type": "stream",
     "text": [
      "Fitting 5 folds for each of 4 candidates, totalling 20 fits\n",
      "R^2 moyen cv :  87.8\n",
      "MEA cv:  -0.81\n",
      "RMSE cv:  -1.32\n",
      "--------------------------------------------------------------------------------\n",
      "meilleur score R^2 88.37\n",
      "Wall time: 22.1 s\n"
     ]
    }
   ],
   "source": [
    "%%time \n",
    "from sklearn.model_selection import KFold\n",
    "from sklearn.model_selection import GridSearchCV\n",
    "from sklearn.feature_selection import mutual_info_regression\n",
    "\n",
    "\n",
    "np.random.seed(20)\n",
    "\n",
    "rf_energy_estimator = XGBRegressor(subsample= 0.5,\n",
    "                                   n_estimators= 200,\n",
    "                                   min_child_weight= 1,\n",
    "                                   max_depth= 10,\n",
    "                                   learning_rate= 0.1,\n",
    "                                   colsample_bytree= 0.5,\n",
    "                                  )\n",
    "\n",
    "\n",
    "pipeline_energy = Pipeline([(\"preprocessor\", preprocessor),\n",
    "                         (\"selector\", SelectKBest(mutual_info_regression)),\n",
    "                         (\"randomforestregressor\", rf_energy_estimator)\n",
    "                        ])\n",
    "\n",
    "search_space = [{\"selector__k\": [30, 50, 60, 70]}]\n",
    "\n",
    "kfold = KFold(n_splits=5, shuffle=True, random_state=20)\n",
    "\n",
    "energy_selector_search = GridSearchCV(\n",
    "    estimator=pipeline_energy,\n",
    "    param_grid=search_space,\n",
    "    cv=kfold,\n",
    "    verbose=True,\n",
    "    scoring=[\"r2\",\n",
    "             \"neg_mean_absolute_error\",\n",
    "             \"neg_root_mean_squared_error\"\n",
    "            ],\n",
    "    refit=\"r2\",\n",
    "    n_jobs=-2,\n",
    ").fit(X_train_energy_tr,y_train_energy_tr)\n",
    "\n",
    "\n",
    "energy_selector_r2 = round(energy_selector_search.cv_results_[\"mean_test_r2\"].mean()*100,2)\n",
    "energy_selector_mae = round(energy_selector_search.cv_results_[\"mean_test_neg_mean_absolute_error\"].mean(),2)\n",
    "energy_selector_rmse = round(energy_selector_search.cv_results_[\"mean_test_neg_root_mean_squared_error\"].mean(),2)\n",
    "\n",
    "print(\"R^2 moyen cv : \", energy_selector_r2)\n",
    "print(\"MEA cv: \", energy_selector_mae)\n",
    "print(\"RMSE cv: \", energy_selector_rmse)\n",
    "print(\"-\" * 80)\n",
    "print(\"meilleur score R^2\",round(energy_selector_search.best_score_ * 100, 2))"
   ]
  },
  {
   "cell_type": "markdown",
   "id": "ed2c71be",
   "metadata": {},
   "source": [
    "- La meilleure valeur de k qui permet d'avoir le meilleur score R^2"
   ]
  },
  {
   "cell_type": "code",
   "execution_count": 67,
   "id": "07f4a2c1",
   "metadata": {},
   "outputs": [
    {
     "data": {
      "text/plain": [
       "{'selector__k': 70}"
      ]
     },
     "execution_count": 67,
     "metadata": {},
     "output_type": "execute_result"
    }
   ],
   "source": [
    "energy_selector_search.best_params_"
   ]
  },
  {
   "cell_type": "code",
   "execution_count": 68,
   "id": "f65bc4fc",
   "metadata": {},
   "outputs": [
    {
     "data": {
      "text/plain": [
       "96"
      ]
     },
     "execution_count": 68,
     "metadata": {},
     "output_type": "execute_result"
    }
   ],
   "source": [
    "len(energy_selector_search.best_estimator_.named_steps['selector'].get_support())"
   ]
  },
  {
   "cell_type": "code",
   "execution_count": 69,
   "id": "c0c28936",
   "metadata": {},
   "outputs": [
    {
     "data": {
      "text/plain": [
       "70"
      ]
     },
     "execution_count": 69,
     "metadata": {},
     "output_type": "execute_result"
    }
   ],
   "source": [
    "sum(energy_selector_search.best_estimator_.named_steps['selector'].get_support())"
   ]
  },
  {
   "cell_type": "markdown",
   "id": "df0f5eb5",
   "metadata": {},
   "source": [
    "<blockquote>\n",
    "    - Avec une valeur k=60, SelectKBest() réduira le nombre de variables avec XGBRegressor de 104 variables à 60 seulement.\n",
    "</blockquote>"
   ]
  },
  {
   "cell_type": "markdown",
   "id": "1b7fa4d9",
   "metadata": {},
   "source": [
    "*********\n",
    "# <font color=#025172>Chapitre 5 : Evaluer la performance sur le test set</font>\n",
    "*********"
   ]
  },
  {
   "cell_type": "markdown",
   "id": "2bab4511",
   "metadata": {},
   "source": [
    "<img src='http://www.seattle.gov/Images/Council/Logos/City-of-Seattle-Logo_Color-on-Transparent.png' width=45px align=\"left\"/> \n",
    "<div style=\"vertical-align: middle\">\n",
    "    <h2>\n",
    "    <font color=#0046AD>&emsp; 5.1 Performance du modèle sur la variable transformée: TotalGHGEmissions\n",
    "        </font>\n",
    "    </h2>\n",
    "</div>"
   ]
  },
  {
   "cell_type": "code",
   "execution_count": 70,
   "id": "72438c85",
   "metadata": {},
   "outputs": [
    {
     "name": "stdout",
     "output_type": "stream",
     "text": [
      "RandomForest Regressor Performance on GHEmission Test Data Set\n",
      "R^2 : 80.87 %\n",
      "MAE : 0.24\n",
      "RMSE : 0.42\n",
      "Wall time: 7.69 s\n"
     ]
    }
   ],
   "source": [
    "%%time\n",
    "\n",
    "from sklearn.metrics import r2_score, mean_absolute_error, mean_squared_error\n",
    "from math import sqrt\n",
    "\n",
    "np.random.seed(20)\n",
    "\n",
    "rf_co2_estimator = RandomForestRegressor(bootstrap=False,\n",
    "                                         max_features=0.33,\n",
    "                                         n_estimators=400,\n",
    "                                         random_state=20\n",
    "                                        )\n",
    "\n",
    "pipeline_co2 = Pipeline([(\"preprocessor\", preprocessor),\n",
    "                         (\"selector\", SelectKBest(mutual_info_regression, k=70)),\n",
    "                         (\"randomforestregressor\", rf_co2_estimator)\n",
    "                        ])\n",
    "\n",
    "pipeline_co2.fit(X_train_co2_tr, y_train_co2_tr)\n",
    "\n",
    "co2_testdata_r2 = round(r2_score(y_test_co2_tr, pipeline_co2.predict(X_test_co2_tr)) *100,2)\n",
    "co2_testdata_mean = round(mean_absolute_error(y_test_co2_tr, pipeline_co2.predict(X_test_co2_tr)),2)\n",
    "co2_testdata_mse = mean_squared_error(y_test_co2_tr, pipeline_co2.predict(X_test_co2_tr))\n",
    "co2_testdata_rmse = round(sqrt(co2_testdata_mse),2)\n",
    "\n",
    "print(\"RandomForest Regressor Performance on GHEmission Test Data Set\")\n",
    "print(\"R^2 :\",co2_testdata_r2,\"%\")\n",
    "print(\"MAE :\",co2_testdata_mean)\n",
    "print(\"RMSE :\",co2_testdata_rmse)\n",
    "\n",
    "# print('R^2 sur le test set: ' + str(round(pipeline_co2.score(X_test_co2_tr,y_test_co2_tr),2) * 100))"
   ]
  },
  {
   "cell_type": "markdown",
   "id": "534ed7f4",
   "metadata": {},
   "source": [
    "<img src='http://www.seattle.gov/Images/Council/Logos/City-of-Seattle-Logo_Color-on-Transparent.png' width=45px align=\"left\"/> \n",
    "<div style=\"vertical-align: middle\">\n",
    "    <h2>\n",
    "    <font color=#0046AD>&emsp; 5.2 Performance du modèle sur la variable transformée: SiteEnergyUse(kBtu)\n",
    "        </font>\n",
    "    </h2>\n",
    "</div>"
   ]
  },
  {
   "cell_type": "code",
   "execution_count": 71,
   "id": "e46c8355",
   "metadata": {},
   "outputs": [
    {
     "name": "stdout",
     "output_type": "stream",
     "text": [
      "RandomForest Regressor Performance on Energy use Test Data Set\n",
      "R^2 : 90.21 %\n",
      "MAE : 0.73\n",
      "RMSE : 1.18\n",
      "Wall time: 2.78 s\n"
     ]
    }
   ],
   "source": [
    "%%time\n",
    "\n",
    "np.random.seed(20)\n",
    "\n",
    "rf_energy_estimator = XGBRegressor(subsample= 0.5,\n",
    "                                   n_estimators= 200,\n",
    "                                   min_child_weight= 1,\n",
    "                                   max_depth= 10,\n",
    "                                   learning_rate= 0.1,\n",
    "                                   colsample_bytree= 0.5,\n",
    "                                  )\n",
    "\n",
    "\n",
    "pipeline_energy = Pipeline([(\"preprocessor\", preprocessor),\n",
    "                         (\"selector\", SelectKBest(mutual_info_regression, k=70)),\n",
    "                         (\"randomforestregressor\", rf_energy_estimator)\n",
    "                        ])\n",
    "\n",
    "pipeline_energy.fit(X_train_energy_tr, y_train_energy_tr)\n",
    "\n",
    "energy_testdata_r2 = round(r2_score(y_test_energy_tr, pipeline_energy.predict(X_test_energy_tr)) *100,2)\n",
    "energy_testdata_mean = round(mean_absolute_error(y_test_energy_tr, pipeline_energy.predict(X_test_energy_tr)),2)\n",
    "energy_testdata_mse = mean_squared_error(y_test_energy_tr, pipeline_energy.predict(X_test_energy_tr))\n",
    "energy_testdata_rmse = round(sqrt(energy_testdata_mse),2)\n",
    "\n",
    "print(\"RandomForest Regressor Performance on Energy use Test Data Set\")\n",
    "print(\"R^2 :\",energy_testdata_r2,\"%\")\n",
    "print(\"MAE :\",energy_testdata_mean)\n",
    "print(\"RMSE :\",energy_testdata_rmse)\n",
    "# print('R^2 sur le test set: ' + str(round(pipeline_energy.score(X_test_energy_tr,y_test_energy_tr),2) * 100))"
   ]
  },
  {
   "cell_type": "markdown",
   "id": "1dd280b8",
   "metadata": {},
   "source": [
    "<img src='http://www.seattle.gov/Images/Council/Logos/City-of-Seattle-Logo_Color-on-Transparent.png' width=45px align=\"left\"/> \n",
    "<div style=\"vertical-align: middle\">\n",
    "    <h2>\n",
    "    <font color=#0046AD>&emsp; 5.3 Comparer les performances des modèles sur le Traning et le Test set.\n",
    "        </font>\n",
    "    </h2>\n",
    "</div>"
   ]
  },
  {
   "cell_type": "markdown",
   "id": "10afbbfc",
   "metadata": {},
   "source": [
    "#### <font color=#0046AD>5.3.1 Préparer les metrics pour la variable : `TotalGHGEmissions`.</font>"
   ]
  },
  {
   "cell_type": "markdown",
   "id": "4a381b66",
   "metadata": {},
   "source": [
    "- Estimer les scores pour le modèle tunned sans features selection pour la visualisation."
   ]
  },
  {
   "cell_type": "code",
   "execution_count": 72,
   "id": "03d75420",
   "metadata": {},
   "outputs": [],
   "source": [
    "np.random.seed(20)\n",
    "\n",
    "# Intialisation du pipeline du modèle \n",
    "pipe_co2_tunned = Pipeline(\n",
    "    steps=[\n",
    "        (\"preprocessor\", preprocessor),\n",
    "        (\n",
    "            \"randomforestregressor\",\n",
    "            RandomForestRegressor(n_estimators=400, max_features=0.33, bootstrap=False),\n",
    "        ),\n",
    "    ]\n",
    ")\n",
    "\n",
    "# Entrainement du modèle sur le training set\n",
    "pipe_co2_tunned.fit(X_train_co2_tr,y_train_co2_tr)\n",
    "\n",
    "# Calcul des metrics sur le test set pour le modèle tunned sans features selection\n",
    "\n",
    "co2_tunned_r2 = round(r2_score(y_test_co2_tr, pipe_co2_tunned.predict(X_test_co2_tr)) *100,2)\n",
    "co2_tunned_mae = round(mean_absolute_error(y_test_co2_tr, pipe_co2_tunned.predict(X_test_co2_tr)),2)\n",
    "co2_tunned_mse = mean_squared_error(y_test_co2_tr, pipe_co2_tunned.predict(X_test_co2_tr))\n",
    "co2_tunned_rmse = round(sqrt(co2_testdata_mse),2)"
   ]
  },
  {
   "cell_type": "markdown",
   "id": "bd48fc32",
   "metadata": {},
   "source": [
    "- Préparer un dataframe pour la visualisation."
   ]
  },
  {
   "cell_type": "code",
   "execution_count": 73,
   "id": "86133f06",
   "metadata": {},
   "outputs": [],
   "source": [
    "co2_r2_synthese = [\n",
    "    baseline_models[\"TotalGHGEmissions transformed data\"][\"R^2_tr\"][0],\n",
    "    models_tunned_step1[\"TotalGHGEmissions transformed data\"][\"R^2_tr\"][0],\n",
    "    co2_selector_r2,\n",
    "    np.nan,\n",
    "    co2_tunned_r2,\n",
    "    co2_testdata_r2,\n",
    "]\n",
    "\n",
    "co2_mae_synthese = [\n",
    "    baseline_models[\"TotalGHGEmissions transformed data\"][\"MAE_tr\"][0],\n",
    "    models_tunned_step1[\"TotalGHGEmissions transformed data\"][\"MAE_tr\"][0],\n",
    "    co2_selector_mae,\n",
    "    np.nan,\n",
    "    co2_tunned_mae,\n",
    "    co2_testdata_mean,\n",
    "]\n",
    "\n",
    "co2_rmse_synthese = [\n",
    "    baseline_models[\"TotalGHGEmissions transformed data\"][\"RMSE_tr\"][0],\n",
    "    models_tunned_step1[\"TotalGHGEmissions transformed data\"][\"RMSE_tr\"][0],\n",
    "    co2_selector_rmse,\n",
    "    np.nan,\n",
    "    co2_tunned_rmse,\n",
    "    co2_testdata_rmse,\n",
    "]\n",
    "\n",
    "co2_df_overall_perf = pd.DataFrame(\n",
    "    data=[co2_r2_synthese, co2_mae_synthese, co2_rmse_synthese],\n",
    "    index=[\"R^2\", \"MAE\", \"RMSE\"],\n",
    "    columns=[\n",
    "        \"baseline model\",\n",
    "        \"tunned model\",\n",
    "        \"tunned model + feature selection\",\n",
    "        \"\",\n",
    "        \"tunned model on test data\",\n",
    "        \"tunned model + feature selection on test data\",\n",
    "    ],\n",
    ").T"
   ]
  },
  {
   "cell_type": "markdown",
   "id": "45db904d",
   "metadata": {},
   "source": [
    "- Visualisation des résultats."
   ]
  },
  {
   "cell_type": "code",
   "execution_count": 74,
   "id": "8886d88a",
   "metadata": {},
   "outputs": [
    {
     "data": {
      "image/png": "[encoded data removed]",
      "text/plain": [
       "<Figure size 1152x576 with 3 Axes>"
      ]
     },
     "metadata": {},
     "output_type": "display_data"
    }
   ],
   "source": [
    "sns.set(style=\"white\", font_scale=1.2)\n",
    "\n",
    "fig, ax = plt.subplots(nrows=1, ncols=3, figsize=(16, 8))\n",
    "\n",
    "sns.barplot(\n",
    "    data=co2_df_overall_perf,\n",
    "    y=\"R^2\",\n",
    "    x=co2_df_overall_perf.index,\n",
    "    orient=\"v\",\n",
    "    ax=ax[0],\n",
    ")\n",
    "\n",
    "ax[0].set(title=\"R^2 - TotalGHGEmissions\", ylabel=None, ylim=[60,100])\n",
    "ax[0].bar_label(ax[0].containers[0])\n",
    "ax[0].set_xticklabels(ax[0].get_xticklabels(), rotation=40, ha=\"right\")\n",
    "\n",
    "\n",
    "sns.barplot(\n",
    "    data=co2_df_overall_perf,\n",
    "    y=\"MAE\",\n",
    "    x=co2_df_overall_perf.index,\n",
    "    orient=\"v\",\n",
    "    ax=ax[1],\n",
    ")\n",
    "\n",
    "ax[1].set(title=\"MAE - TotalGHGEmissions\", ylabel=None)\n",
    "ax[1].bar_label(ax[1].containers[0])\n",
    "ax[1].set_xticklabels(ax[1].get_xticklabels(), rotation=40, ha=\"right\")\n",
    "\n",
    "\n",
    "sns.barplot(\n",
    "    data=co2_df_overall_perf,\n",
    "    y=\"RMSE\",\n",
    "    x=co2_df_overall_perf.index,\n",
    "    orient=\"v\",\n",
    "    ax=ax[2],\n",
    ")\n",
    "\n",
    "ax[2].set(title=\"RMSE - TotalGHGEmissions\", ylabel=None)\n",
    "ax[2].bar_label(ax[2].containers[0])\n",
    "ax[2].set_xticklabels(ax[2].get_xticklabels(), rotation=40, ha=\"right\")\n",
    "\n",
    "\n",
    "fig.tight_layout;"
   ]
  },
  {
   "cell_type": "markdown",
   "id": "2219497a",
   "metadata": {},
   "source": [
    "- Visualisation de y_true en fonction de y_preds"
   ]
  },
  {
   "cell_type": "code",
   "execution_count": 97,
   "id": "b9be5f5b",
   "metadata": {},
   "outputs": [
    {
     "data": {
      "image/png": "[encoded data removed]",
      "text/plain": [
       "<Figure size 1152x576 with 1 Axes>"
      ]
     },
     "metadata": {},
     "output_type": "display_data"
    }
   ],
   "source": [
    "sns.set(style=\"white\", font_scale=1.2)\n",
    "\n",
    "fig, ax = plt.subplots(figsize=(16, 8))\n",
    "\n",
    "sns.regplot(\n",
    "    x=pipeline_energy.predict(X_test_co2_tr),\n",
    "    y=y_test_co2_tr,\n",
    "    ax=ax,\n",
    ")\n",
    "\n",
    "ax.set(title=\"TotalGHGEmissions y_true vs y_preds\", ylabel=\"y_true\", xlabel=\"y_preds\");"
   ]
  },
  {
   "cell_type": "markdown",
   "id": "7ba226f8",
   "metadata": {},
   "source": [
    "#### <font color=#0046AD>5.3.2 Préparer les metrics pour la variable : `SiteEnergyUse(kBtu)`.</font>"
   ]
  },
  {
   "cell_type": "markdown",
   "id": "05f3a35d",
   "metadata": {},
   "source": [
    "- Estimer les scores pour le baseline modèle pour la visualisation."
   ]
  },
  {
   "cell_type": "code",
   "execution_count": 76,
   "id": "3dc63416",
   "metadata": {},
   "outputs": [],
   "source": [
    "from sklearn.model_selection import cross_validate\n",
    "\n",
    "np.random.seed(20)\n",
    "\n",
    "# Intialisation du pipeline du modèle\n",
    "pipe_xgb_baseline = Pipeline(\n",
    "    steps=[\n",
    "        (\"preprocessor\", preprocessor),\n",
    "        (\n",
    "            \"XGB-Regressor\",\n",
    "            XGBRegressor(random_state=20),\n",
    "        ),\n",
    "    ]\n",
    ")\n",
    "\n",
    "# Calcule des metrics avec une cross-validation\n",
    "xgb_baseline_results = cross_validate(\n",
    "    pipe_xgb_baseline,\n",
    "    X_train_energy_tr,\n",
    "    y_train_energy_tr,\n",
    "    cv=5,\n",
    "    scoring=[\"r2\", \"neg_mean_absolute_error\", \"neg_root_mean_squared_error\"],\n",
    "    n_jobs=-2,\n",
    "    error_score=\"raise\",\n",
    ")\n",
    "\n",
    "xgb_baseline_r2 = round(xgb_baseline_results[\"test_r2\"].mean() * 100, 2)\n",
    "xgb_baseline_mae = round(xgb_baseline_results[\"test_neg_mean_absolute_error\"].mean(), 2)\n",
    "xgb_baseline_rmse = round(xgb_baseline_results[\"test_neg_root_mean_squared_error\"].mean(), 2)"
   ]
  },
  {
   "cell_type": "markdown",
   "id": "c06585ae",
   "metadata": {},
   "source": [
    "- Estimer les scores pour le modèle tunned sans features selection pour la visualisation."
   ]
  },
  {
   "cell_type": "code",
   "execution_count": 78,
   "id": "a2ef03ef",
   "metadata": {},
   "outputs": [],
   "source": [
    "# Intialisation du pipeline du modèle\n",
    "xgb_tunned = Pipeline(\n",
    "    steps=[\n",
    "        (\"preprocessor\", preprocessor),\n",
    "        (\n",
    "            \"XGB-Regressor\",\n",
    "            XGBRegressor(\n",
    "                subsample=0.5,\n",
    "                n_estimators=200,\n",
    "                min_child_weight=1,\n",
    "                max_depth=10,\n",
    "                learning_rate=0.1,\n",
    "                colsample_bytree=0.5,\n",
    "                random_state=20,\n",
    "            ),\n",
    "        ),\n",
    "    ]\n",
    ")\n",
    "\n",
    "# Entrainement du modèle sur le training set\n",
    "xgb_tunned.fit(X_train_energy_tr, y_train_energy_tr)\n",
    "\n",
    "# Calcul des metrics sur le test set pour le modèle tunned sans features selection\n",
    "\n",
    "xgb_tunned_test_r2 = round(\n",
    "    r2_score(y_test_energy_tr, xgb_tunned.predict(X_test_energy_tr)) * 100, 2\n",
    ")\n",
    "xgb_tunned_test_mae = round(\n",
    "    mean_absolute_error(y_test_energy_tr, xgb_tunned.predict(X_test_energy_tr)), 2\n",
    ")\n",
    "xgb_tunned_test_mse = mean_squared_error(\n",
    "    y_test_energy_tr, xgb_tunned.predict(X_test_energy_tr)\n",
    ")\n",
    "xgb_tunned_test_rmse = round(sqrt(co2_testdata_mse), 2)"
   ]
  },
  {
   "cell_type": "markdown",
   "id": "39053004",
   "metadata": {},
   "source": [
    "- Préparer un dataframe pour la visualisation."
   ]
  },
  {
   "cell_type": "code",
   "execution_count": 79,
   "id": "7eb3d6e7",
   "metadata": {},
   "outputs": [],
   "source": [
    "energy_r2_synthese = [\n",
    "    xgb_baseline_r2,\n",
    "    energy_other_models.iloc[3,1],\n",
    "    energy_selector_r2,\n",
    "    np.nan,\n",
    "    xgb_tunned_test_r2,\n",
    "    energy_testdata_r2,\n",
    "]\n",
    "\n",
    "energy_mae_synthese = [\n",
    "    xgb_baseline_mae,\n",
    "    energy_other_models.iloc[3,2],\n",
    "    energy_selector_mae,\n",
    "    np.nan,\n",
    "    xgb_tunned_test_mae,\n",
    "    energy_testdata_mean,\n",
    "]\n",
    "\n",
    "energy_rmse_synthese = [\n",
    "    xgb_baseline_rmse,\n",
    "    energy_other_models.iloc[3,3],\n",
    "    energy_selector_rmse,\n",
    "    np.nan,\n",
    "    xgb_tunned_test_rmse,\n",
    "    energy_testdata_rmse,\n",
    "]\n",
    "\n",
    "energy_df_overall_perf = pd.DataFrame(\n",
    "    data=[energy_r2_synthese, energy_mae_synthese, energy_rmse_synthese],\n",
    "    index=[\"R^2\", \"MAE\", \"RMSE\"],\n",
    "    columns=[\n",
    "        \"baseline model\",\n",
    "        \"tunned model\",\n",
    "        \"tunned model + feature selection\",\n",
    "        \"\",\n",
    "        \"tunned model on test data\",\n",
    "        \"tunned model + feature selection on test data\",\n",
    "    ],\n",
    ").T"
   ]
  },
  {
   "cell_type": "markdown",
   "id": "a905b7ff",
   "metadata": {},
   "source": [
    "- Visualisation des résultats."
   ]
  },
  {
   "cell_type": "code",
   "execution_count": 80,
   "id": "4dab84bb",
   "metadata": {},
   "outputs": [
    {
     "data": {
      "image/png": "[encoded data removed]",
      "text/plain": [
       "<Figure size 1152x576 with 3 Axes>"
      ]
     },
     "metadata": {},
     "output_type": "display_data"
    }
   ],
   "source": [
    "sns.set(style=\"white\", font_scale=1.2)\n",
    "\n",
    "fig, ax = plt.subplots(nrows=1, ncols=3, figsize=(16, 8))\n",
    "\n",
    "sns.barplot(\n",
    "    data=energy_df_overall_perf,\n",
    "    y=\"R^2\",\n",
    "    x=energy_df_overall_perf.index,\n",
    "    orient=\"v\",\n",
    "    ax=ax[0],\n",
    ")\n",
    "\n",
    "ax[0].set(title=\"R^2 - SiteEnergyUse(kBtu)\", ylabel=None, ylim=[60,100])\n",
    "ax[0].bar_label(ax[0].containers[0])\n",
    "ax[0].set_xticklabels(ax[0].get_xticklabels(), rotation=40, ha=\"right\")\n",
    "\n",
    "\n",
    "sns.barplot(\n",
    "    data=energy_df_overall_perf,\n",
    "    y=\"MAE\",\n",
    "    x=energy_df_overall_perf.index,\n",
    "    orient=\"v\",\n",
    "    ax=ax[1],\n",
    ")\n",
    "\n",
    "ax[1].set(title=\"MAE - SiteEnergyUse(kBtu)\", ylabel=None)\n",
    "ax[1].bar_label(ax[1].containers[0])\n",
    "ax[1].set_xticklabels(ax[1].get_xticklabels(), rotation=40, ha=\"right\")\n",
    "\n",
    "\n",
    "sns.barplot(\n",
    "    data=energy_df_overall_perf,\n",
    "    y=\"RMSE\",\n",
    "    x=energy_df_overall_perf.index,\n",
    "    orient=\"v\",\n",
    "    ax=ax[2],\n",
    ")\n",
    "\n",
    "ax[2].set(title=\"RMSE - SiteEnergyUse(kBtu)\", ylabel=None)\n",
    "ax[2].bar_label(ax[2].containers[0])\n",
    "ax[2].set_xticklabels(ax[2].get_xticklabels(), rotation=40, ha=\"right\")\n",
    "\n",
    "\n",
    "fig.tight_layout;"
   ]
  },
  {
   "cell_type": "markdown",
   "id": "0ae4bfc4",
   "metadata": {},
   "source": [
    "- Visualisation de y_true en fonction de y_preds"
   ]
  },
  {
   "cell_type": "code",
   "execution_count": 81,
   "id": "a7361d8b",
   "metadata": {},
   "outputs": [
    {
     "data": {
      "image/png": "[encoded data removed]",
      "text/plain": [
       "<Figure size 1152x576 with 1 Axes>"
      ]
     },
     "metadata": {},
     "output_type": "display_data"
    }
   ],
   "source": [
    "sns.set(style=\"white\", font_scale=1.2)\n",
    "\n",
    "fig, ax = plt.subplots(figsize=(16, 8))\n",
    "\n",
    "sns.regplot(\n",
    "    x=pipeline_energy.predict(X_test_energy_tr),\n",
    "    y=y_test_energy_tr,\n",
    "    ax=ax,\n",
    ");\n",
    "\n",
    "ax.set(title=\"SiteEnergyUse(kBtu) y_true vs y_preds\", ylabel=\"y_true\", xlabel=\"y_preds\");"
   ]
  },
  {
   "cell_type": "markdown",
   "id": "42398bbb",
   "metadata": {},
   "source": [
    "*********\n",
    "# <font color=#025172>Chapitre 6 : Evaluer l'impact de la variable `ENERGYSTARScore`</font>\n",
    "*********"
   ]
  },
  {
   "cell_type": "markdown",
   "id": "f7504492",
   "metadata": {},
   "source": [
    "<img src='http://www.seattle.gov/Images/Council/Logos/City-of-Seattle-Logo_Color-on-Transparent.png' width=45px align=\"left\"/> \n",
    "<div style=\"vertical-align: middle\">\n",
    "    <h2>\n",
    "    <font color=#0046AD>&emsp; 6.1 Impact sur la varialbe TotalGHGEmissions\n",
    "        </font>\n",
    "    </h2>\n",
    "</div>"
   ]
  },
  {
   "cell_type": "markdown",
   "id": "1fe364e8",
   "metadata": {},
   "source": [
    "#### <font color=#0046AD>6.1.1 Importance de la variable ENERGYSTARScore.</font>"
   ]
  },
  {
   "cell_type": "code",
   "execution_count": 82,
   "id": "d52e6f15",
   "metadata": {},
   "outputs": [],
   "source": [
    "from sklearn.base import clone"
   ]
  },
  {
   "cell_type": "code",
   "execution_count": 83,
   "id": "ab4dec5b",
   "metadata": {},
   "outputs": [],
   "source": [
    "pipeline_co2_copy = clone(pipeline_co2, safe=True)"
   ]
  },
  {
   "cell_type": "code",
   "execution_count": 84,
   "id": "3cb0eafe",
   "metadata": {},
   "outputs": [
    {
     "data": {
      "text/plain": [
       "Pipeline(steps=[('preprocessor',\n",
       "                 ColumnTransformer(remainder='passthrough',\n",
       "                                   transformers=[('numerical',\n",
       "                                                  Pipeline(steps=[('scaler',\n",
       "                                                                   StandardScaler())]),\n",
       "                                                  Index(['NumberofBuildings', 'NumberofFloors', 'PropertyGFATotal',\n",
       "       'PropertyGFAParking', 'PropertyGFABuilding(s)',\n",
       "       'LargestPropertyUseTypeGFA', 'SecondLargestPropertyUseTypeGFA',\n",
       "       'ThirdLargestPropertyUseTypeGFA'...\n",
       "                                                  Index(['BuildingType', 'PrimaryPropertyType', 'Neighborhood',\n",
       "       'LargestPropertyUseType', 'SecondLargestPropertyUseType',\n",
       "       'ThirdLargestPropertyUseType', 'ComplianceStatus'],\n",
       "      dtype='object'))])),\n",
       "                ('selector',\n",
       "                 SelectKBest(k=70,\n",
       "                             score_func=<function mutual_info_regression at 0x000001CB4A7BA280>)),\n",
       "                ('randomforestregressor',\n",
       "                 RandomForestRegressor(bootstrap=False, max_features=0.33,\n",
       "                                       n_estimators=400, random_state=20))])"
      ]
     },
     "execution_count": 84,
     "metadata": {},
     "output_type": "execute_result"
    }
   ],
   "source": [
    "pipeline_co2_copy.fit(X_train_co2_tr, y_train_co2_tr)"
   ]
  },
  {
   "cell_type": "code",
   "execution_count": 85,
   "id": "a15d750d",
   "metadata": {},
   "outputs": [],
   "source": [
    "onehot_columns_co2 = list(\n",
    "    pipeline_co2_copy.named_steps[\"preprocessor\"]\n",
    "    .named_transformers_[\"categorical\"]\n",
    "    .named_steps[\"onehot\"]\n",
    "    .get_feature_names()\n",
    ")\n",
    "features_list_co2 = list(numerical_columns)\n",
    "features_list_co2.extend(onehot_columns_co2)"
   ]
  },
  {
   "cell_type": "code",
   "execution_count": 86,
   "id": "a718f925",
   "metadata": {},
   "outputs": [],
   "source": [
    "mask = pipeline_co2_copy.named_steps[\"selector\"].get_support() #list of booleans\n",
    "\n",
    "new_features = [] # The list of your K best features\n",
    "\n",
    "for bool, feature in zip(mask, features_list_co2):\n",
    "\n",
    "    if bool == True:\n",
    "\n",
    "        new_features.append(feature)"
   ]
  },
  {
   "cell_type": "code",
   "execution_count": 87,
   "id": "fbe69aa6",
   "metadata": {
    "scrolled": false
   },
   "outputs": [],
   "source": [
    "co2_feature_importance = pd.DataFrame(\n",
    "    data=[\n",
    "        new_features,\n",
    "        pipeline_co2_copy.named_steps[\"randomforestregressor\"].feature_importances_,\n",
    "    ],\n",
    "    index=[\"Feature\", \"Importance\"],\n",
    ").T"
   ]
  },
  {
   "cell_type": "code",
   "execution_count": 88,
   "id": "fd8f69d9",
   "metadata": {},
   "outputs": [],
   "source": [
    "co2_feature_importance[\"Importance\"] = co2_feature_importance[\"Importance\"].apply(lambda x : round(x*100,1))"
   ]
  },
  {
   "cell_type": "code",
   "execution_count": 89,
   "id": "c5f191de",
   "metadata": {},
   "outputs": [
    {
     "data": {
      "text/html": [
       "<div>\n",
       "<style scoped>\n",
       "    .dataframe tbody tr th:only-of-type {\n",
       "        vertical-align: middle;\n",
       "    }\n",
       "\n",
       "    .dataframe tbody tr th {\n",
       "        vertical-align: top;\n",
       "    }\n",
       "\n",
       "    .dataframe thead th {\n",
       "        text-align: right;\n",
       "    }\n",
       "</style>\n",
       "<table border=\"1\" class=\"dataframe\">\n",
       "  <thead>\n",
       "    <tr style=\"text-align: right;\">\n",
       "      <th></th>\n",
       "      <th>Feature</th>\n",
       "      <th>Importance</th>\n",
       "    </tr>\n",
       "  </thead>\n",
       "  <tbody>\n",
       "    <tr>\n",
       "      <th>4</th>\n",
       "      <td>PropertyGFABuilding(s)</td>\n",
       "      <td>19.2</td>\n",
       "    </tr>\n",
       "    <tr>\n",
       "      <th>2</th>\n",
       "      <td>PropertyGFATotal</td>\n",
       "      <td>14.4</td>\n",
       "    </tr>\n",
       "    <tr>\n",
       "      <th>5</th>\n",
       "      <td>LargestPropertyUseTypeGFA</td>\n",
       "      <td>11.9</td>\n",
       "    </tr>\n",
       "    <tr>\n",
       "      <th>69</th>\n",
       "      <td>x6_Non-Compliant</td>\n",
       "      <td>6.1</td>\n",
       "    </tr>\n",
       "    <tr>\n",
       "      <th>10</th>\n",
       "      <td>Longitude</td>\n",
       "      <td>4.8</td>\n",
       "    </tr>\n",
       "    <tr>\n",
       "      <th>9</th>\n",
       "      <td>Latitude</td>\n",
       "      <td>4.5</td>\n",
       "    </tr>\n",
       "    <tr>\n",
       "      <th>8</th>\n",
       "      <td>ENERGYSTARScore</td>\n",
       "      <td>4.5</td>\n",
       "    </tr>\n",
       "    <tr>\n",
       "      <th>6</th>\n",
       "      <td>SecondLargestPropertyUseTypeGFA</td>\n",
       "      <td>4.3</td>\n",
       "    </tr>\n",
       "    <tr>\n",
       "      <th>1</th>\n",
       "      <td>NumberofFloors</td>\n",
       "      <td>3.9</td>\n",
       "    </tr>\n",
       "    <tr>\n",
       "      <th>22</th>\n",
       "      <td>x1_Self-Storage</td>\n",
       "      <td>2.2</td>\n",
       "    </tr>\n",
       "  </tbody>\n",
       "</table>\n",
       "</div>"
      ],
      "text/plain": [
       "                            Feature  Importance\n",
       "4            PropertyGFABuilding(s)        19.2\n",
       "2                  PropertyGFATotal        14.4\n",
       "5         LargestPropertyUseTypeGFA        11.9\n",
       "69                 x6_Non-Compliant         6.1\n",
       "10                        Longitude         4.8\n",
       "9                          Latitude         4.5\n",
       "8                   ENERGYSTARScore         4.5\n",
       "6   SecondLargestPropertyUseTypeGFA         4.3\n",
       "1                    NumberofFloors         3.9\n",
       "22                  x1_Self-Storage         2.2"
      ]
     },
     "execution_count": 89,
     "metadata": {},
     "output_type": "execute_result"
    }
   ],
   "source": [
    "co2_feature_importance.sort_values(by=\"Importance\", ascending=False).head(10)"
   ]
  },
  {
   "cell_type": "code",
   "execution_count": 90,
   "id": "513216a1",
   "metadata": {},
   "outputs": [
    {
     "data": {
      "image/png": "[encoded data removed]",
      "text/plain": [
       "<Figure size 1008x864 with 1 Axes>"
      ]
     },
     "metadata": {},
     "output_type": "display_data"
    }
   ],
   "source": [
    "fig, ax = plt.subplots(figsize=(14,12))\n",
    "    \n",
    "sns.barplot(\n",
    "    data=co2_feature_importance.sort_values(by=\"Importance\", ascending=False).head(20),\n",
    "    x=\"Importance\",\n",
    "    y=\"Feature\",\n",
    "    orient=\"h\",\n",
    "    ax=ax,\n",
    ")\n",
    "\n",
    "ax.set(title=\"Top 20 Features - variable transformée TotalGHGEmissions\", xlabel='Importance de feature en %');\n",
    "ax.bar_label(ax.containers[0]);\n",
    "fig.tight_layout;"
   ]
  },
  {
   "cell_type": "markdown",
   "id": "bd49e08c",
   "metadata": {},
   "source": [
    "#### <font color=#0046AD>6.1.2 Impact de la variable ENERGYSTARScore sur R^2.</font>"
   ]
  },
  {
   "cell_type": "code",
   "execution_count": 91,
   "id": "48ed61b5",
   "metadata": {},
   "outputs": [],
   "source": [
    "np.random.seed(20)\n",
    "\n",
    "categorical_columns = cleaned_data.select_dtypes(include=[\"object\"]).columns\n",
    "categorical_transformer = Pipeline(\n",
    "    steps=[(\"onehot\", OneHotEncoder(#categories=ohe_cat\n",
    "                                    sparse=False, \n",
    "                                    handle_unknown=\"ignore\")\n",
    "           )] \n",
    ")\n",
    "\n",
    "\n",
    "numerical_columns_without_ENERGYSTARScore = (\n",
    "    cleaned_data.select_dtypes(include=[\"int64\", \"float64\"])\n",
    "    .drop([\"TotalGHGEmissions\",\n",
    "           \"SiteEnergyUse(kBtu)\",\n",
    "           \"transformed_TotalGHGEmissions\",\n",
    "           \"transformed_SiteEnergyUse(kBtu)\",\n",
    "           \"ENERGYSTARScore\"], axis=1)\n",
    "    .columns\n",
    ")\n",
    "numerical_transformer = Pipeline(steps=[(\"scaler\", StandardScaler())])\n",
    "\n",
    "\n",
    "# Combiner les transformers dans une étape preprocessor\n",
    "preprocessor = ColumnTransformer(\n",
    "    transformers=[\n",
    "        (\"numerical\", numerical_transformer, numerical_columns_without_ENERGYSTARScore),\n",
    "        (\"categorical\", categorical_transformer, categorical_columns),\n",
    "    ],\n",
    "    remainder=\"passthrough\",\n",
    ")\n",
    "\n",
    "\n",
    "pipe_co2 = Pipeline([(\"preprocessor\", preprocessor),\n",
    "                     (\"selector\", SelectKBest(mutual_info_regression, k=70)),\n",
    "                     (\"randomforestregressor\", rf_co2_estimator)\n",
    "                    ])"
   ]
  },
  {
   "cell_type": "code",
   "execution_count": 92,
   "id": "428e51ba",
   "metadata": {},
   "outputs": [
    {
     "data": {
      "text/plain": [
       "Pipeline(steps=[('preprocessor',\n",
       "                 ColumnTransformer(remainder='passthrough',\n",
       "                                   transformers=[('numerical',\n",
       "                                                  Pipeline(steps=[('scaler',\n",
       "                                                                   StandardScaler())]),\n",
       "                                                  Index(['NumberofBuildings', 'NumberofFloors', 'PropertyGFATotal',\n",
       "       'PropertyGFAParking', 'PropertyGFABuilding(s)',\n",
       "       'LargestPropertyUseTypeGFA', 'SecondLargestPropertyUseTypeGFA',\n",
       "       'ThirdLargestPropertyUseTypeGFA'...\n",
       "                                                  Index(['BuildingType', 'PrimaryPropertyType', 'Neighborhood',\n",
       "       'LargestPropertyUseType', 'SecondLargestPropertyUseType',\n",
       "       'ThirdLargestPropertyUseType', 'ComplianceStatus'],\n",
       "      dtype='object'))])),\n",
       "                ('selector',\n",
       "                 SelectKBest(k=70,\n",
       "                             score_func=<function mutual_info_regression at 0x000001CB4A7BA280>)),\n",
       "                ('randomforestregressor',\n",
       "                 RandomForestRegressor(bootstrap=False, max_features=0.33,\n",
       "                                       n_estimators=400, random_state=20))])"
      ]
     },
     "execution_count": 92,
     "metadata": {},
     "output_type": "execute_result"
    }
   ],
   "source": [
    "pipe_co2.fit(X_train_co2_tr, y_train_co2_tr)"
   ]
  },
  {
   "cell_type": "code",
   "execution_count": 93,
   "id": "57256196",
   "metadata": {},
   "outputs": [
    {
     "name": "stdout",
     "output_type": "stream",
     "text": [
      "R^2 TotalGHGEmissions with ENERGYSTARScore : 80.87 %\n",
      "R^2 TotalGHGEmissions without ENERGYSTARScore : 80.87 %\n"
     ]
    }
   ],
   "source": [
    "r2_with_ENERGYSTARScore = round(pipeline_co2_copy.score(X_test_co2_tr,y_test_co2_tr)*100,2)\n",
    "r2_without_ENERGYSTARScore = round(pipe_co2.score(X_test_co2_tr,y_test_co2_tr)*100,2)\n",
    "print(\"R^2 TotalGHGEmissions with ENERGYSTARScore :\",r2_with_ENERGYSTARScore,\"%\")\n",
    "print(\"R^2 TotalGHGEmissions without ENERGYSTARScore :\",r2_without_ENERGYSTARScore,\"%\")"
   ]
  },
  {
   "cell_type": "code",
   "execution_count": 94,
   "id": "b4374189",
   "metadata": {},
   "outputs": [],
   "source": [
    "df_co2 = pd.DataFrame(\n",
    "    [r2_with_ENERGYSTARScore, r2_without_ENERGYSTARScore],\n",
    "    index=[\n",
    "        \"R^2 with ENERGYSTARScore\",\n",
    "        \"R^2 without ENERGYSTARScore\",\n",
    "    ],\n",
    "    columns=[\"R^2\"],\n",
    ")"
   ]
  },
  {
   "cell_type": "code",
   "execution_count": 95,
   "id": "aef71b95",
   "metadata": {},
   "outputs": [
    {
     "data": {
      "image/png": "[encoded data removed]",
      "text/plain": [
       "<Figure size 864x576 with 1 Axes>"
      ]
     },
     "metadata": {},
     "output_type": "display_data"
    }
   ],
   "source": [
    "sns.set(style=\"white\", font_scale=1.5)\n",
    "\n",
    "fig, ax = plt.subplots(figsize=(12,8))\n",
    "    \n",
    "sns.barplot(\n",
    "    data=df_co2,\n",
    "    y=\"R^2\",\n",
    "    x=df_co2.index,\n",
    "    orient=\"v\",\n",
    "    ax=ax,\n",
    ")\n",
    "\n",
    "ax.set(title=\"ENERGYSTARScore vs  TotalGHGEmissions - transformée\",ylabel=None, ylim=[70,90]);\n",
    "ax.bar_label(ax.containers[0])\n",
    "\n",
    "fig.tight_layout;"
   ]
  },
  {
   "cell_type": "code",
   "execution_count": null,
   "id": "c1ea3b40",
   "metadata": {},
   "outputs": [],
   "source": []
  }
 ],
 "metadata": {
  "kernelspec": {
   "display_name": "Python 3 (ipykernel)",
   "language": "python",
   "name": "python3"
  },
  "language_info": {
   "codemirror_mode": {
    "name": "ipython",
    "version": 3
   },
   "file_extension": ".py",
   "mimetype": "text/x-python",
   "name": "python",
   "nbconvert_exporter": "python",
   "pygments_lexer": "ipython3",
   "version": "3.9.6"
  },
  "toc": {
   "base_numbering": 1,
   "nav_menu": {
    "height": "671px",
    "width": "650px"
   },
   "number_sections": false,
   "sideBar": true,
   "skip_h1_title": false,
   "title_cell": "Table of Contents",
   "title_sidebar": "Contents",
   "toc_cell": false,
   "toc_position": {
    "height": "736px",
    "left": "409px",
    "top": "265px",
    "width": "408.977px"
   },
   "toc_section_display": true,
   "toc_window_display": true
  },
  "varInspector": {
   "cols": {
    "lenName": 16,
    "lenType": 16,
    "lenVar": 40
   },
   "kernels_config": {
    "python": {
     "delete_cmd_postfix": "",
     "delete_cmd_prefix": "del ",
     "library": "var_list.py",
     "varRefreshCmd": "print(var_dic_list())"
    },
    "r": {
     "delete_cmd_postfix": ") ",
     "delete_cmd_prefix": "rm(",
     "library": "var_list.r",
     "varRefreshCmd": "cat(var_dic_list()) "
    }
   },
   "types_to_exclude": [
    "module",
    "function",
    "builtin_function_or_method",
    "instance",
    "_Feature"
   ],
   "window_display": false
  }
 },
 "nbformat": 4,
 "nbformat_minor": 5
}
